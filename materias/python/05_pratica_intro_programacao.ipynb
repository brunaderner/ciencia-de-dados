{
  "nbformat": 4,
  "nbformat_minor": 0,
  "metadata": {
    "colab": {
      "provenance": []
    },
    "kernelspec": {
      "name": "python3",
      "display_name": "Python 3"
    },
    "language_info": {
      "name": "python"
    }
  },
  "cells": [
    {
      "cell_type": "markdown",
      "source": [
        "#Instruções para Submissão\n",
        "Na aula prática de hoje, você terá que elaborar programas para resolver problemas diversos, conforme\n",
        "descrito abaixo. Cada uma das soluções deverá ser implementada em seu próprio arquivo com extensão .py. Por exemplo, a solução para o problema 1 deverá ser implementada em um arquivo chamado\n",
        "problema1.py, a solução para o problema 2 deverá ser implementada no arquivo problema2.py e\n",
        "assim por diante. Finalmente, submeta cada um dos arquivos pelo Moodle.\n",
        "Dica: se você tiver problemas com caracteres especiais (caracteres com acentos, por exemplo), adicione a linha abaixo na primeira linha de todos os arquivos *.py\n",
        "# -*- coding: utf-8 -*-"
      ],
      "metadata": {
        "id": "gEkJ3lxJcQNM"
      }
    },
    {
      "cell_type": "markdown",
      "source": [
        "#Problema 1\n",
        "Crie um programa que receba um nome completo e o imprima no seguinte formato: \"sobrenome\",\n",
        "\"primeiro nome e nome do meio\". Dica: utilize a função rfind().\n",
        "Observação: as mensagens exibidas para o usuário deverão ser exatamente como apresentado abaixo\n",
        "(mensagens exibidas com os comandos input() e print()).\n",
        "Exemplo 1 de execução do programa:\n",
        "Jose Daniel dos Santos Figueredo\n",
        "Nome formatado: Figueredo, Jose Daniel dos Santos\n",
        "Exemplo 2 de execução do programa:\n",
        "Pierrot Pilegram\n",
        "Nome formatado: Pilegram, Pierrot"
      ],
      "metadata": {
        "id": "h92OE9GjcUnl"
      }
    },
    {
      "cell_type": "code",
      "execution_count": null,
      "metadata": {
        "colab": {
          "base_uri": "https://localhost:8080/"
        },
        "id": "78Xwt-yWR_TG",
        "outputId": "f32321a9-7117-464d-e9bb-edee7f20404a"
      },
      "outputs": [
        {
          "output_type": "stream",
          "name": "stdout",
          "text": [
            "Bruna Derner Alvares\n",
            "Nome formatado: Alvares, Bruna Derner\n"
          ]
        }
      ],
      "source": [
        "nome = input('')\n",
        "\n",
        "posicao = nome.rfind(' ')\n",
        "indice = posicao + 1\n",
        "\n",
        "print(f'Nome formatado: {nome[indice:]}, {nome[:posicao]}')"
      ]
    },
    {
      "cell_type": "markdown",
      "source": [
        "#Problema 2\n",
        "Crie um programa que recebe uma string e substitui duas ocorrências de letras repetidas (consecutivamente) por uma única ocorrência da mesma em maiúscula.\n",
        "Observação: as mensagens exibidas para o usuário deverão ser exatamente como apresentado abaixo\n",
        "(mensagens exibidas com os comandos input() e print()).\n",
        "Exemplo 1 de execução do programa:\n",
        "Arranhão\n",
        "ARanhão\n",
        "Exemplo 2 de execução do programa:\n",
        "assunto\n",
        "aSunto\n",
        "Exemplo 3 de execução do programa:\n",
        "aaabbbccc\n",
        "AaBbCc\n",
        "Exemplo 4 de execução do programa:\n",
        "aaaabbbb\n",
        "AABB"
      ],
      "metadata": {
        "id": "mNcQDW63ottC"
      }
    },
    {
      "cell_type": "code",
      "source": [
        "s = input('')\n",
        "i = 0\n",
        "l = len(s)\n",
        "up = ''\n",
        "\n",
        "while i < l:\n",
        "  if i + 1 < l and s[i] == s[i + 1]:\n",
        "    up += s[i].upper()\n",
        "    i += 2\n",
        "  else:\n",
        "    up += s[i]\n",
        "    i += 1\n",
        "\n",
        "print(up)\n"
      ],
      "metadata": {
        "colab": {
          "base_uri": "https://localhost:8080/"
        },
        "id": "4Av43_3Yo49h",
        "outputId": "cb0675b4-3e1c-4999-809c-4aa9b2726be9"
      },
      "execution_count": null,
      "outputs": [
        {
          "output_type": "stream",
          "name": "stdout",
          "text": [
            "arranhao\n",
            "aRanhao\n"
          ]
        }
      ]
    },
    {
      "cell_type": "markdown",
      "source": [
        "#Problema 3\n",
        "Um palíndromo é uma seqüência de caracteres cuja leitura é idêntica se feita da esquerda para a direita ou da direita para a esquerda. Por exemplo: OSSO e OVO são palíndromos. Escreva um programa\n",
        "que leia uma string e imprima na tela se ela é um palíndromo ou não\n",
        "Observação: as mensagens exibidas para o usuário deverão ser exatamente como apresentado abaixo\n",
        "(mensagens exibidas com os comandos input() e print()).\n",
        "Exemplo 1 de execução do programa:\n",
        "ovo\n",
        "É palíndromo\n",
        "2\n",
        "Exemplo 2 de execução do programa:\n",
        "casa\n",
        "Não é palíndromo"
      ],
      "metadata": {
        "id": "Gep0nSsP286J"
      }
    },
    {
      "cell_type": "code",
      "source": [
        "p = input('')\n",
        "l = len(p)\n",
        "\n",
        "if p == p[::-1]:\n",
        "  print('É palíndromo')\n",
        "else:\n",
        "  print('Não é palíndromo')"
      ],
      "metadata": {
        "id": "sBGUDAKN3B0N",
        "colab": {
          "base_uri": "https://localhost:8080/"
        },
        "outputId": "d5de3126-0e81-479c-b120-ca000330759f"
      },
      "execution_count": null,
      "outputs": [
        {
          "output_type": "stream",
          "name": "stdout",
          "text": [
            "oso\n",
            "É palíndromo\n"
          ]
        }
      ]
    },
    {
      "cell_type": "markdown",
      "source": [
        "#Problema 4\n",
        "Faça um programa que solicite o nome do usuário e imprima-o na vertical.\n",
        "Observação: as mensagens exibidas para o usuário deverão ser exatamente como apresentado abaixo\n",
        "(mensagens exibidas com os comandos input() e print()).\n",
        "Exemplo de execução do programa:\n",
        "FULANO\n",
        "F\n",
        "U\n",
        "L\n",
        "A\n",
        "N\n",
        "O"
      ],
      "metadata": {
        "id": "ZHhFMfAr3CKj"
      }
    },
    {
      "cell_type": "code",
      "source": [
        "inp = input('')\n",
        "for i in inp:\n",
        "  print(i)"
      ],
      "metadata": {
        "colab": {
          "base_uri": "https://localhost:8080/"
        },
        "id": "DewtXtST3FyO",
        "outputId": "85f51131-d670-4534-c996-44f9e591ec2b"
      },
      "execution_count": null,
      "outputs": [
        {
          "output_type": "stream",
          "name": "stdout",
          "text": [
            "fulano\n",
            "f\n",
            "u\n",
            "l\n",
            "a\n",
            "n\n",
            "o\n"
          ]
        }
      ]
    },
    {
      "cell_type": "markdown",
      "source": [
        "#Problema 5\n",
        "Modifique o programa anterior de forma a mostrar o nome em formato de escada.\n",
        "Observação: as mensagens exibidas para o usuário deverão ser exatamente como apresentado abaixo\n",
        "(mensagens exibidas com os comandos input() e print()).\n",
        "Exemplo de execução do programa:\n",
        "FULANO\n",
        "F\n",
        "FU\n",
        "FUL\n",
        "FULA\n",
        "FULAN\n",
        "FULANO"
      ],
      "metadata": {
        "id": "y2iqKgxQ340y"
      }
    },
    {
      "cell_type": "code",
      "source": [
        "inp = input('')\n",
        "\n",
        "for i in range(len(inp)):\n",
        "  print(inp[:i+1])"
      ],
      "metadata": {
        "colab": {
          "base_uri": "https://localhost:8080/"
        },
        "id": "Q9E5XYjm3_jt",
        "outputId": "1c76e559-6e3f-4312-8719-e573b88dd8e2"
      },
      "execution_count": null,
      "outputs": [
        {
          "output_type": "stream",
          "name": "stdout",
          "text": [
            "bruna\n",
            "b\n",
            "br\n",
            "bru\n",
            "brun\n",
            "bruna\n"
          ]
        }
      ]
    },
    {
      "cell_type": "markdown",
      "source": [
        "#Problema 6\n",
        "Altere o programa anterior de modo que a escada seja invertida.\n",
        "3\n",
        "Observação: as mensagens exibidas para o usuário deverão ser exatamente como apresentado abaixo\n",
        "(mensagens exibidas com os comandos input() e print()).\n",
        "Exemplo de execução do programa:\n",
        "FULANO\n",
        "FULANO\n",
        "FULAN\n",
        "FULA\n",
        "FUL\n",
        "FU\n",
        "F"
      ],
      "metadata": {
        "id": "Plr-3Zf385R3"
      }
    },
    {
      "cell_type": "code",
      "source": [
        "inp = input('')\n",
        "\n",
        "for i in range(len(inp)):\n",
        "  print(inp[0:len(inp) - i])"
      ],
      "metadata": {
        "colab": {
          "base_uri": "https://localhost:8080/"
        },
        "id": "NQfLJg7c86yR",
        "outputId": "448d6663-95f9-4bf5-fd4d-2b2cdb1407d0"
      },
      "execution_count": null,
      "outputs": [
        {
          "output_type": "stream",
          "name": "stdout",
          "text": [
            "bruna\n",
            "bruna\n",
            "brun\n",
            "bru\n",
            "br\n",
            "b\n"
          ]
        }
      ]
    },
    {
      "cell_type": "markdown",
      "source": [
        "#Problema 7\n",
        "Uma cifra de César é uma forma fraca de criptografia que implica em \"rotacionar\"cada letra por um\n",
        "número fixo de posições. Rotacionar uma letra significa deslocá-la pelo alfabeto, voltando ao início\n",
        "se for necessário. Portanto, ‘A’ rotacionado por 3 é ‘D’, enquanto que ‘Z’ rotacionado por 1 é ‘A’. Para\n",
        "rotacionar uma palavra, faça cada letra se mover pela mesma quantidade de posições. Por exemplo,\n",
        "a palavra \"cheer\"rotacionada por 7 é a palavra \"jolly\". Você pode usar a função pré-definida ord, que\n",
        "converte um caractere em um código numérico e a função pré-definida chr, que converte códigos\n",
        "numéricos em caracteres, conforme os exemplos abaix:\n",
        "ord(‘a’)\n",
        "97\n",
        "ord(‘z’)\n",
        "122\n",
        "chr(97)\n",
        "‘a’\n",
        "chr(122)\n",
        "‘z’\n",
        "As letras do alfabeto são codificadas em ordem alfabética. Por exemplo, ord(‘b’) é maior que ord(‘a’).\n",
        "Escreva um programa que lê uma palavra e um número inteiro positivo e imprime na tela a palavra\n",
        "rotacionada de acordo com a cifra de César. Você pode assumir que todas as letras da palavra são\n",
        "minúsculas.\n",
        "Observação: as mensagens exibidas para o usuário deverão ser exatamente como apresentado abaixo\n",
        "(mensagens exibidas com os comandos input() e print()).\n",
        "Exemplo 1 de execução do programa:\n",
        "Digite uma palavra: cheer\n",
        "Digite o valor da chave: 7\n",
        "Resultado: jolly\n",
        "Exemplo 2 de execução do programa:\n",
        "4\n",
        "Digite uma palavra: xyz\n",
        "Digite o valor da chave: 1\n",
        "Resultado: yza"
      ],
      "metadata": {
        "id": "j5pVmQ2_C8sr"
      }
    },
    {
      "cell_type": "code",
      "source": [
        "palavra = input('Digite uma palavra: ')\n",
        "chave = int(input('Digite o valor da chave: '))\n",
        "alfabeto = 'abcdefghijklmnopqrstuvwxyz'\n",
        "resultado = ''\n",
        "for i in palavra:\n",
        "  posicao = alfabeto.find(i)\n",
        "  n_posicao = (posicao + chave) % len(alfabeto)\n",
        "  resultado += alfabeto[n_posicao]\n",
        "\n",
        "print(f'Resultado: {resultado}')\n"
      ],
      "metadata": {
        "colab": {
          "base_uri": "https://localhost:8080/"
        },
        "id": "e6kXy4ndC7zD",
        "outputId": "23b45add-403d-4850-af2c-73674cf2c4eb"
      },
      "execution_count": null,
      "outputs": [
        {
          "output_type": "stream",
          "name": "stdout",
          "text": [
            "Digite uma palavra: cheer\n",
            "Digite o valor da chave: 7\n",
            "jolly\n"
          ]
        }
      ]
    },
    {
      "cell_type": "markdown",
      "source": [
        "#Problema 8\n",
        "Beatrix precisa de sua ajuda para desenvolver o sistema de acesso dos alunos da universidade. Para\n",
        "isso, escreva um programa que receba como entrada o nome completo de um estudante da UFMG\n",
        "e então imprima na tela o login do aluno, conforme regra descrita a seguir. A regra para geração do\n",
        "login é: o primeiro nome, seguido da primeira letra dos nomes do meio, seguido do sobrenome. O\n",
        "login deve conter apenas letras maiúsculas.\n",
        "Observação: as mensagens exibidas para o usuário deverão ser exatamente como apresentado abaixo\n",
        "(mensagens exibidas com os comandos input() e print()).\n",
        "Exemplo 1 de execução do programa:\n",
        "Nome completo do aluno: Isabel Cristina Leopoldina Augusta Micaela Gabriela\n",
        "Login: ISABELCLAMGABRIELA\n",
        "Exemplo 2 de execução do programa:\n",
        "Nome completo do aluno: Pedro de Alcântara Cipriano Serafim\n",
        "Login: PEDRODACSERAFIM"
      ],
      "metadata": {
        "id": "KROT-g6LDtYj"
      }
    },
    {
      "cell_type": "code",
      "source": [],
      "metadata": {
        "id": "pEoE1OC3MPBN"
      },
      "execution_count": null,
      "outputs": []
    },
    {
      "cell_type": "code",
      "source": [
        "nome = input('Nome completo do aluno: ')\n",
        "\n",
        "primeiro = nome.find(' ')\n",
        "posicao1 = nome.rfind(' ')\n",
        "ultimo = posicao1 + 1\n",
        "p1 = nome[:primeiro]\n",
        "p2 = nome[ultimo:]\n",
        "meio = nome[primeiro:ultimo]\n",
        "meio_limpo = meio.split()\n",
        "iniciais = ''\n",
        "for i in meio_limpo:\n",
        " iniciais += i[0]\n",
        "\n",
        "user = p1 + iniciais + p2\n",
        "\n",
        "print(f'Login: {user.upper()}')\n",
        "\n"
      ],
      "metadata": {
        "id": "y-5sJPhv9HH1",
        "colab": {
          "base_uri": "https://localhost:8080/"
        },
        "outputId": "589c37c9-5a04-4158-def3-464cf1a7f3c9"
      },
      "execution_count": null,
      "outputs": [
        {
          "output_type": "stream",
          "name": "stdout",
          "text": [
            "Nome completo do aluno: Isabel Cristina Leopoldina Augusta Micaela Gabriela\n",
            "Login: ISABELCLAMGABRIELA\n"
          ]
        }
      ]
    },
    {
      "cell_type": "markdown",
      "source": [
        "#Problema 9\n",
        "Escreva um programa que receba como entrada uma string. Em seguida, o programa deve iterar em\n",
        "cada caractere da string e sempre que uma vogal for encontrada, o programa deve exibir na tela a\n",
        "posição e a vogal encontrada, conforme os exemplos de execução abaixo. Você pode assumir que caracteres com acento não serão fornecidos como entrada.\n",
        "Observação: as mensagens exibidas para o usuário deverão ser exatamente como apresentado abaixo\n",
        "(mensagens exibidas com os comandos input() e print()).\n",
        "Exemplo 1 de execução do programa:\n",
        "The book is on the table\n",
        "2 e\n",
        "5 o\n",
        "6 o\n",
        "9 i\n",
        "12 o\n",
        "17 e\n",
        "20 a\n",
        "23 e\n",
        "5\n",
        "Exemplo 2 de execução do programa:\n",
        "Are you okay?\n",
        "0 A\n",
        "2 e\n",
        "5 o\n",
        "6 u\n",
        "8 o\n",
        "10 a"
      ],
      "metadata": {
        "id": "_D5PjdLHOJLI"
      }
    },
    {
      "cell_type": "code",
      "source": [
        "inp = input('')\n",
        "vogais = 'aeiouAEIOU'\n",
        "for i in range(len(inp)):\n",
        "  a = inp[i]\n",
        "  if a in vogais:\n",
        "    print(f'{i} {a}')"
      ],
      "metadata": {
        "colab": {
          "base_uri": "https://localhost:8080/"
        },
        "id": "En-GQLDnOQi_",
        "outputId": "b44e467b-810e-41bb-c374-bb9b0f4b6f18"
      },
      "execution_count": null,
      "outputs": [
        {
          "output_type": "stream",
          "name": "stdout",
          "text": [
            "The book is on the table\n",
            "2 e\n",
            "5 o\n",
            "6 o\n",
            "9 i\n",
            "12 o\n",
            "17 e\n",
            "20 a\n",
            "23 e\n"
          ]
        }
      ]
    },
    {
      "cell_type": "markdown",
      "source": [
        "#Problema 10\n",
        "Escreva um programa que lê duas strings e imprime na tela as strings combinadas, alternando as letras de cada string, começando com a primeira letra da primeira string, seguido pela primeira letra da\n",
        "segunda string, em seguida pela segunda letra da primeira string, e assim sucessivamente. As letras\n",
        "restantes da string mais longa devem ser adicionadas ao final da string resultante.\n",
        "Observação: as mensagens exibidas para o usuário deverão ser exatamente como apresentado abaixo\n",
        "(mensagens exibidas com os comandos input() e print()).\n",
        "Exemplo 1 de execução do programa:\n",
        "Digite a primeira palavra: Tpo\n",
        "Digite a segunda palavra: oCder\n",
        "Combinação: TopCoder\n",
        "Exemplo 2 de execução do programa:\n",
        "Digite a primeira palavra: aaa\n",
        "Digite a segunda palavra: bb\n",
        "Combinação: ababa"
      ],
      "metadata": {
        "id": "MJdTXYvTSi-6"
      }
    },
    {
      "cell_type": "code",
      "source": [
        "primeira = input('Digite a primeira palavra: ')\n",
        "segunda = input('Digite a segunda palavra: ')\n",
        "\n",
        "def embaralhar(primeira, segunda):\n",
        "  p = len(primeira)\n",
        "  s = len(segunda)\n",
        "  m = max(p, s)\n",
        "  palavra = ''\n",
        "  for i in range(m):\n",
        "    if i < p:\n",
        "      palavra += primeira[i]\n",
        "    if i < s :\n",
        "      palavra += segunda[i]\n",
        "  return palavra\n",
        "\n",
        "palavra = embaralhar(primeira, segunda)\n",
        "\n",
        "print(f'Combinação: {palavra}')"
      ],
      "metadata": {
        "colab": {
          "base_uri": "https://localhost:8080/"
        },
        "id": "wYoyh4lrSllA",
        "outputId": "b3ef39b1-b8d3-488b-c002-cf8a0198cdf0"
      },
      "execution_count": 10,
      "outputs": [
        {
          "output_type": "stream",
          "name": "stdout",
          "text": [
            "Digite a primeira palavra: tpo\n",
            "Digite a segunda palavra: ocder\n",
            "Combinação: topcoder\n"
          ]
        }
      ]
    }
  ]
}