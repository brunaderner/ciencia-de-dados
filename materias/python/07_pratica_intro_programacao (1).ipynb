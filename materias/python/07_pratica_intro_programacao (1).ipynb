{
  "nbformat": 4,
  "nbformat_minor": 0,
  "metadata": {
    "colab": {
      "provenance": []
    },
    "kernelspec": {
      "name": "python3",
      "display_name": "Python 3"
    },
    "language_info": {
      "name": "python"
    }
  },
  "cells": [
    {
      "cell_type": "markdown",
      "source": [
        "##Lista de Arquivos"
      ],
      "metadata": {
        "id": "7-ouOXVZgGBP"
      }
    },
    {
      "cell_type": "markdown",
      "source": [
        "#Problema 1\n",
        "Escreva um programa que lê um arquivo chamado texto.txt e imprime na tela a linha do arquivo\n",
        "com o maior número de caracteres e a quantidade de caracteres dessa linha.\n",
        "Observação: as mensagens exibidas para o usuário deverão ser exatamente como apresentado abaixo\n",
        "(mensagens exibidas com os comandos input() e print()).\n",
        "Exemplo de execução do programa:\n",
        "Assumindo que o arquivo texto.txt possui o conteúdo abaixo:\n",
        "Oi\n",
        "Tudo bem?\n",
        "Ah, está bem mais ou menos!\n",
        "O que aconteceu?\n",
        "1\n",
        "Seu programa deve imprimir:\n",
        "Ah, está bem mais ou menos!\n",
        "28"
      ],
      "metadata": {
        "id": "rCUWcY63f20h"
      }
    },
    {
      "cell_type": "code",
      "source": [
        "file = open('texto.txt', 'r')\n",
        "\n",
        "tamanho = []\n",
        "maior = 0\n",
        "for linha in file:\n",
        "  tamanho.append(len(linha))\n",
        "  if len(linha) > maior:\n",
        "    maior = len(linha)\n",
        "    linha_m = linha\n",
        "\n",
        "print(linha_m)\n",
        "print(maior)\n",
        "file.close()"
      ],
      "metadata": {
        "id": "dmvEvHDPeYZd"
      },
      "execution_count": null,
      "outputs": []
    },
    {
      "cell_type": "markdown",
      "source": [
        "#Problema 2\n",
        "Escreva um programa que lê um arquivo chamado texto.txt e imprime na tela a palavra do arquivo\n",
        "com o maior número de caracteres e a quantidade de caracteres dessa palavra.\n",
        "Observação: as mensagens exibidas para o usuário deverão ser exatamente como apresentado abaixo\n",
        "(mensagens exibidas com os comandos input() e print()).\n",
        "Exemplo de execução do programa:\n",
        "Assumindo que o arquivo texto.txt possui o conteúdo abaixo:\n",
        "Oi\n",
        "Tudo bem?\n",
        "Ah, está bem mais ou menos!\n",
        "O que aconteceu?\n",
        "Seu programa deve imprimir:\n",
        "aconteceu?\n",
        "10"
      ],
      "metadata": {
        "id": "AvyAsZvulIZ-"
      }
    },
    {
      "cell_type": "code",
      "source": [
        "file = open('texto.txt', 'r')\n",
        "\n",
        "texto = file.read()\n",
        "tamanho = []\n",
        "maior = 0\n",
        "for palavra in texto.split():\n",
        "  tamanho.append(len(palavra))\n",
        "  if len(palavra) > maior:\n",
        "    maior = len(palavra)\n",
        "    maior_palavra = palavra\n",
        "\n",
        "print(maior_palavra)\n",
        "print(maior)\n",
        "file.close()"
      ],
      "metadata": {
        "id": "IFnwfIBkebUE"
      },
      "execution_count": null,
      "outputs": []
    },
    {
      "cell_type": "markdown",
      "source": [
        "#Problema 3\n",
        "Escreva um programa que pede ao usuário para digitar um inteiro n, em seguida lê um arquivo chamado texto.txt e então imprime na tela todas as palavras do arquivo com um número de caracteres\n",
        "maior ou igual a n, mantendo a ordem com que as palavras aparecem no texto.\n",
        "Observação: as mensagens exibidas para o usuário deverão ser exatamente como apresentado abaixo\n",
        "(mensagens exibidas com os comandos input() e print()).\n",
        "Exemplo de execução do programa:\n",
        "Assumindo que o arquivo texto.txt possui o conteúdo abaixo:\n",
        "Oi\n",
        "Tudo bem?\n",
        "Ah, está bem mais ou menos!\n",
        "O que aconteceu?\n",
        "2\n",
        "A execução do seu programa deve ser como exemplificado abaixo:\n",
        "Digite um inteiro: 4\n",
        "Tudo\n",
        "bem?\n",
        "está\n",
        "mais\n",
        "menos!\n",
        "aconteceu?"
      ],
      "metadata": {
        "id": "d1c1Q16930Ay"
      }
    },
    {
      "cell_type": "code",
      "source": [
        "n = int(input(\"Digite um inteiro: \"))\n",
        "\n",
        "file = open('texto.txt', 'r')\n",
        "texto = file.read()\n",
        "\n",
        "for palavra in texto.split():\n",
        "    if len(palavra) >= n:\n",
        "        print(palavra, end=' ')\n",
        "\n",
        "file.close()"
      ],
      "metadata": {
        "id": "E3N7JA2B3yar"
      },
      "execution_count": null,
      "outputs": []
    },
    {
      "cell_type": "markdown",
      "source": [
        "#Problema 4\n",
        "Escreva um programa que lê um arquivo chamado datas.txt que contém em cada linha uma data\n",
        "no formato DD/MM/AAAA e então imprime na tela a data mais recente.\n",
        "Observação: as mensagens exibidas para o usuário deverão ser exatamente como apresentado abaixo\n",
        "(mensagens exibidas com os comandos input() e print()).\n",
        "Exemplo de execução do programa:\n",
        "Assumindo que o arquivo datas.txt possui o conteúdo abaixo:\n",
        "21/08/1987\n",
        "04/10/1985\n",
        "05/01/1987\n",
        "06/10/1985\n",
        "Seu programa deve imprimir:\n",
        "21/08/1987"
      ],
      "metadata": {
        "id": "QJXWrNy25idK"
      }
    },
    {
      "cell_type": "code",
      "source": [
        "file = open('datas.txt', 'r')\n",
        "\n",
        "maior_data = ''\n",
        "\n",
        "for linha in file:\n",
        "    linha = linha.strip()\n",
        "    dia, mes, ano = map(int, linha.split('/'))\n",
        "    if maior_data == '' or (ano, mes, dia) > (int(maior_data[6:]), int(maior_data[3:5]), int(maior_data[:2])):\n",
        "        maior_data = linha\n",
        "\n",
        "print(maior_data)\n",
        "file.close()"
      ],
      "metadata": {
        "id": "P9Uw3t5-5h7-"
      },
      "execution_count": null,
      "outputs": []
    },
    {
      "cell_type": "markdown",
      "source": [
        "#Problema 5\n",
        "Escreva um programa que lê um arquivo chamado notas.txt que contém em cada linha o nome de\n",
        "um aluno e quatro notas entre 0 e 100. O programa deve então exibir na tela o nome e a média de\n",
        "todos os alunos cuja média seja maior ou igual a 60.\n",
        "Observação: as mensagens exibidas para o usuário deverão ser exatamente como apresentado abaixo\n",
        "(mensagens exibidas com os comandos input() e print()).\n",
        "Exemplo de execução do programa:\n",
        "Assumindo que o arquivo notas.txt possui o conteúdo abaixo:\n",
        "Leo 45 50 38 40\n",
        "Lua 98 100 95 100\n",
        "3\n",
        "Bob 31 60 49 40\n",
        "Ted 60 55 75 78\n",
        "Seu programa deve imprimir:\n",
        "Nome: Lua - Média: 98.25\n",
        "Nome: Ted - Média: 67.00"
      ],
      "metadata": {
        "id": "3-TNW5oY5y1X"
      }
    },
    {
      "cell_type": "code",
      "source": [
        "file = open('notas.txt', 'r')\n",
        "\n",
        "for linha in file:\n",
        "    partes = linha.split()\n",
        "    nome = partes[0]\n",
        "    notas = list(map(float, partes[1:]))\n",
        "    media = sum(notas) / len(notas)\n",
        "    if media >= 60:\n",
        "        print(f'Nome: {nome} - Média: {media:.2f}')\n",
        "\n",
        "file.close()\n"
      ],
      "metadata": {
        "id": "ePu5Gg5c545T"
      },
      "execution_count": null,
      "outputs": []
    },
    {
      "cell_type": "markdown",
      "source": [
        "#Problema 6\n",
        "Escreva um programa que lê um arquivo chamado notas.txt que contém em cada linha o nome de\n",
        "um aluno e quatro notas entre 0 e 100. O programa deve então exibir na tela a maior e a menor média\n",
        "dentre todos os alunos.\n",
        "Observação: as mensagens exibidas para o usuário deverão ser exatamente como apresentado abaixo\n",
        "(mensagens exibidas com os comandos input() e print()).\n",
        "Exemplo de execução do programa:\n",
        "Assumindo que o arquivo notas.txt possui o conteúdo abaixo:\n",
        "Leo 45 50 38 40\n",
        "Joe 100 50 55 60\n",
        "Lua 98 100 95 100\n",
        "Mia 12 50 80 100\n",
        "Seu programa deve imprimir:\n",
        "98.25\n",
        "43.25"
      ],
      "metadata": {
        "id": "Ec4q2hAo6HMg"
      }
    },
    {
      "cell_type": "code",
      "source": [
        "file = open('notas.txt', 'r')\n",
        "\n",
        "maior_media = 0\n",
        "menor_media = 100\n",
        "\n",
        "for linha in file:\n",
        "    partes = linha.split()\n",
        "    notas = list(map(float, partes[1:]))\n",
        "    media = sum(notas) / len(notas)\n",
        "\n",
        "    if media > maior_media:\n",
        "        maior_media = media\n",
        "    if media < menor_media:\n",
        "        menor_media = media\n",
        "\n",
        "print(f'{maior_media:.2f}')\n",
        "print(f'{menor_media:.2f}')\n",
        "\n",
        "file.close()\n"
      ],
      "metadata": {
        "id": "dr1znZ5l6NUF"
      },
      "execution_count": null,
      "outputs": []
    },
    {
      "cell_type": "markdown",
      "source": [
        "#Problema 7\n",
        "Escreva um programa que lê um arquivo chamado numeros.txt que contém em cada linha um número, conforme exemplo abaixo. O programa deve então exibir na tela a quantidade de números que\n",
        "são primos.\n",
        "Observação: as mensagens exibidas para o usuário deverão ser exatamente como apresentado abaixo\n",
        "(mensagens exibidas com os comandos input() e print()).\n",
        "Exemplo de execução do programa:\n",
        "Assumindo que o arquivo numeros.txt possui o conteúdo abaixo:\n",
        "4\n",
        "4\n",
        "3\n",
        "4\n",
        "8\n",
        "2\n",
        "5\n",
        "6\n",
        "5\n",
        "Seu programa deve imprimir:\n",
        "Quantidade de primos: 4"
      ],
      "metadata": {
        "id": "zFxpgaZs-fss"
      }
    },
    {
      "cell_type": "code",
      "source": [
        "file = open('numeros.txt', 'r')\n",
        "primos = 0\n",
        "\n",
        "for linha in file:\n",
        "  numero = int(linha.strip())\n",
        "\n",
        "  if numero < 2:\n",
        "    continue\n",
        "  primo = True\n",
        "\n",
        "  for i in range(2, int(numero**0.5) + 1):\n",
        "    if numero % i == 0:\n",
        "      primo = False\n",
        "      break\n",
        "\n",
        "  if primo:\n",
        "    primos += 1\n",
        "\n",
        "  print(f'Quantidade de primos: {primos}')\n",
        "\n",
        "file.close()"
      ],
      "metadata": {
        "id": "OrMvLXyveeVe"
      },
      "execution_count": null,
      "outputs": []
    },
    {
      "cell_type": "markdown",
      "source": [
        "#Problema 8\n",
        "Escreva um programa que lê um arquivo chamado datas.txt que contém uma lista de nomes seguida pela data de nascimento da pessoa e então imprima na tela o nome e a idade da pessoa na data\n",
        "de 04/06/2024.\n",
        "Observação: as mensagens exibidas para o usuário deverão ser exatamente como apresentado abaixo\n",
        "(mensagens exibidas com os comandos input() e print()).\n",
        "Exemplo de execução do programa:\n",
        "Assumindo que o arquivo datas.txt possui o conteúdo abaixo:\n",
        "Seb 24/03/1990\n",
        "Fer 11/06/1995\n",
        "Her 31/08/1986\n",
        "Off 10/06/1980\n",
        "Seu programa deve imprimir:\n",
        "Nome: Seb\n",
        "Idade: 34 anos\n",
        "Nome: Fer\n",
        "Idade: 28 anos\n",
        "Nome: Her\n",
        "Idade: 37 anos\n",
        "Nome: Off\n",
        "Idade: 43 anos"
      ],
      "metadata": {
        "id": "BYKT-99pjnN5"
      }
    },
    {
      "cell_type": "code",
      "source": [
        "file = open('datas.txt', 'r')\n",
        "for linha in file:\n",
        "  nome = linha[:3]\n",
        "  dia = int(linha[4:6])\n",
        "  mes = int(linha[7:9])\n",
        "  ano = int(linha[10:])\n",
        "\n",
        "  dia_ref = 4\n",
        "  mes_ref = 6\n",
        "  ano_ref = 2024\n",
        "\n",
        "  idade = ano_ref - ano\n",
        "\n",
        "  if (mes_ref < mes) or (mes_ref == mes and dia_ref < dia):\n",
        "    idade -= 1\n",
        "\n",
        "  print(f'Nome: {nome}')\n",
        "  print(f'Idade: {idade} anos')"
      ],
      "metadata": {
        "id": "d6F5hBsSjm5f"
      },
      "execution_count": null,
      "outputs": []
    },
    {
      "cell_type": "markdown",
      "source": [
        "#Problema 9\n",
        "Escreva um programa que pede para o usuário digitar uma data no formato DD/MM/AAAA. Em seguida, o programa deve ler um arquivo chamado compras.txt que contém o registro de todas as\n",
        "compras realizadas em um supermercado. Cada linha do arquivo possui três colunas. A primeira\n",
        "5\n",
        "coluna é o identificador da compra, a segunda é a data da compra e a terceira é o valor da compra,\n",
        "conforme o modelo apresentado abaixo. Finalmente, o programa deve exibir a soma total de todas as\n",
        "compras ocorridas na data informada pelo usuário.\n",
        "Observação: as mensagens exibidas para o usuário deverão ser exatamente como apresentado abaixo\n",
        "(mensagens exibidas com os comandos input() e print()).\n",
        "Exemplo de execução do programa:\n",
        "Assumindo que o arquivo compras.txt possui o conteúdo abaixo:\n",
        "1 02/01/2022 100.0\n",
        "2 02/01/2022 50.25\n",
        "3 03/01/2022 32.15\n",
        "4 03/01/2022 13.55\n",
        "5 03/01/2022 9.80\n",
        "A execução do seu programa deve ser como exemplificado abaixo:\n",
        "Digite a data: 02/01/2022\n",
        "Total: 150.25"
      ],
      "metadata": {
        "id": "ik04mRj_qk07"
      }
    },
    {
      "cell_type": "code",
      "source": [
        "inp = input('Digite a data: ')\n",
        "\n",
        "total = 0\n",
        "\n",
        "file = open('compras.txt', 'r')\n",
        "for linha in file:\n",
        "  partes = linha.split()\n",
        "  data = partes[1]\n",
        "  compra = float(partes[2])\n",
        "\n",
        "  if inp == data:\n",
        "    total += compra\n",
        "\n",
        "print(f'Total: {total:.2f}')\n",
        "file.close()\n"
      ],
      "metadata": {
        "id": "bBcWdLBhqyIY"
      },
      "execution_count": null,
      "outputs": []
    },
    {
      "cell_type": "markdown",
      "source": [
        "#Problema 10\n",
        "Escreva um programa que lê um arquivo chamado frases.txt e imprime na tela a quantidade de\n",
        "frases palíndromos que existem no arquivo. Dica: utilize a função replace de strings para remover os espaços em branco antes de verificar se a frase é um palíndromo. Exemplo: assumindo que\n",
        "frase é uma variável que contém uma string, a chamada frase.replace(‘a’, ‘b’) retorna uma\n",
        "nova string onde todas as ocorrências do caractere ‘a’ na frase é substituído pelo caractere ‘b’.\n",
        "Além disso, não esqueça de tornar todas as letras minúsculas antes da verificação (função lower() de\n",
        "strings).\n",
        "Observação: as mensagens exibidas para o usuário deverão ser exatamente como apresentado abaixo\n",
        "(mensagens exibidas com os comandos input() e print()).\n",
        "Exemplo de execução do programa:\n",
        "Assumindo que o arquivo frases.txt possui o conteúdo abaixo:\n",
        "A base do teto desaba\n",
        "Bazinga\n",
        "A mala nada na lama\n",
        "Grandes poderes trazem grandes responsabilidades\n",
        "Seu programa deve imprimir:\n",
        "Quantidade de palíndromos: 2"
      ],
      "metadata": {
        "id": "aRDHsx5gtmiT"
      }
    },
    {
      "cell_type": "code",
      "source": [
        "file = open('frases.txt', 'r')\n",
        "\n",
        "contador = 0\n",
        "\n",
        "for linha in file:\n",
        "    frase = linha.strip()\n",
        "    frase_limpa = frase.replace(' ', '').lower()\n",
        "\n",
        "    if frase_limpa == frase_limpa[::-1]:\n",
        "        contador += 1\n",
        "\n",
        "print(f'Quantidade de palíndromos: {contador}')\n",
        "\n",
        "file.close()\n"
      ],
      "metadata": {
        "id": "ampviR7ftygO"
      },
      "execution_count": null,
      "outputs": []
    }
  ]
}