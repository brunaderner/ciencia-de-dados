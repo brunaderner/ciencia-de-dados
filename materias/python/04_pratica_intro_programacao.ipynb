{
  "nbformat": 4,
  "nbformat_minor": 0,
  "metadata": {
    "colab": {
      "provenance": []
    },
    "kernelspec": {
      "name": "python3",
      "display_name": "Python 3"
    },
    "language_info": {
      "name": "python"
    }
  },
  "cells": [
    {
      "cell_type": "markdown",
      "source": [
        "#Instruções para Submissão\n",
        "Na aula prática de hoje, você terá que elaborar programas para resolver problemas diversos, conforme\n",
        "descrito abaixo. Cada uma das soluções deverá ser implementada em seu próprio arquivo com extensão .py. Por exemplo, a solução para o problema 1 deverá ser implementada em um arquivo chamado\n",
        "problema1.py, a solução para o problema 2 deverá ser implementada no arquivo problema2.py e\n",
        "assim por diante. Finalmente, submeta cada um dos arquivos pelo Moodle.\n",
        "Dica: se você tiver problemas com caracteres especiais (caracteres com acentos, por exemplo), adicione a linha abaixo na primeira linha de todos os arquivos *.py\n",
        "# -*- coding: utf-8 -*-"
      ],
      "metadata": {
        "id": "CH1I1u2J1NL6"
      }
    },
    {
      "cell_type": "markdown",
      "source": [
        "#Problema 1\n",
        "Escreva uma função chamada populacao que receba como parâmetros o número de habitantes e a\n",
        "taxa anual de crescimento (em porcento) da população de uma cidade A, o número de habitantes e\n",
        "a taxa anual de crescimento da população de uma cidade B, e retorna o número de anos necessários\n",
        "para que a população da cidade A ultrapasse ou iguale a população da cidade B, mantidas as taxas de\n",
        "crescimento.\n",
        "Observação 1: O nome da função deve ser exatamente como especificado acima e seu arquivo deve\n",
        "obrigatoriamente se chamar problema1.py.\n",
        "Observação 2: Seu programa deve conter apenas a função descrita acima. Você não precisa realizar a\n",
        "entrada e saída de dados (não precisa usar as funções input() e print()).\n",
        "Exemplo de execução do programa:\n",
        "Digite a população da cidade A: 80000\n",
        "Digite a taxa de crescimento da população da cidade A: 3\n",
        "Digite a população da cidade B: 200000\n",
        "Digite a taxa de crescimento da população da cidade B: 1.5\n",
        "63"
      ],
      "metadata": {
        "id": "i4Y-yofc1ZIk"
      }
    },
    {
      "cell_type": "code",
      "execution_count": null,
      "metadata": {
        "id": "JZ49D4nKuxQq"
      },
      "outputs": [],
      "source": [
        "\n",
        "def populacao(h_a, t_a, h_b, t_b):\n",
        "    anos = 0\n",
        "    taxa_a = (t_a / 100) + 1\n",
        "    taxa_b = (t_b / 100) + 1\n",
        "    while h_a < h_b:\n",
        "      h_a = h_a * taxa_a\n",
        "      h_b = h_b * taxa_b\n",
        "      anos += 1\n",
        "    return anos"
      ]
    },
    {
      "cell_type": "markdown",
      "source": [
        "#Problema 2\n",
        "Desenvolva um gerador de tabuada, capaz de gerar a tabuada de qualquer número inteiro entre 1 e 10. O usuário deve informar de qual número ele deseja ver a tabuada.\n",
        "Observação: as mensagens exibidas para o usuário deverão ser exatamente como apresentado abaixo\n",
        "(mensagens exibidas com os comandos input() e print()).\n",
        "Exemplo de execução do programa:\n",
        "Digite um inteiro: 5\n",
        "Tabuada de 5:\n",
        "5 X 1 = 5\n",
        "5 X 2 = 10\n",
        "...\n",
        "5 X 10 = 50"
      ],
      "metadata": {
        "id": "2fzAryLYb-J6"
      }
    },
    {
      "cell_type": "code",
      "source": [
        "inp = int(input('Digite um inteiro: '))\n",
        "print(f'Tabuada de {inp}:')\n",
        "for numeros in range(1, 11):\n",
        "  tabuada = inp * numeros\n",
        "  print(f'{inp} x {numeros} = {tabuada}')\n",
        "\n",
        "\n"
      ],
      "metadata": {
        "id": "yQZD4L3icBMH",
        "colab": {
          "base_uri": "https://localhost:8080/"
        },
        "outputId": "fbdb0a6f-8be6-4ab0-893f-4d92c5f9ae8b"
      },
      "execution_count": null,
      "outputs": [
        {
          "output_type": "stream",
          "name": "stdout",
          "text": [
            "Digite um inteiro: 5\n",
            "Tabuada de 5:\n",
            "5 x 1 = 5\n",
            "5 x 2 = 10\n",
            "5 x 3 = 15\n",
            "5 x 4 = 20\n",
            "5 x 5 = 25\n",
            "5 x 6 = 30\n",
            "5 x 7 = 35\n",
            "5 x 8 = 40\n",
            "5 x 9 = 45\n",
            "5 x 10 = 50\n"
          ]
        }
      ]
    },
    {
      "cell_type": "markdown",
      "source": [
        "#Problema 3\n",
        "O Sr. Manoel Joaquim possui uma grande loja de artigos de R$ 1,99, com cerca de 10 caixas. Para agilizar o cálculo de quanto cada cliente deve pagar ele desenvolveu uma tabela que contém o número de\n",
        "itens que o cliente comprou e ao lado o valor da conta. Desta forma, a atendente do caixa precisa apenas contar quantos itens o cliente está levando e olhar na tabela de preços. Você foi contratado para\n",
        "desenvolver o programa que monta esta tabela de preços, que conterá os preços de 1 até 50 produtos.\n",
        "Observação: as mensagens exibidas para o usuário deverão ser exatamente como apresentado abaixo\n",
        "(mensagens exibidas com os comandos input() e print()).\n",
        "Exemplo de execução do programa:\n",
        "Loja Quase Dois - Tabela de preços\n",
        "1 - R$ 1.99\n",
        "2 - R$ 3.98\n",
        "...\n",
        "50 - R$ 99.50"
      ],
      "metadata": {
        "id": "N_u0f-mjaBbZ"
      }
    },
    {
      "cell_type": "code",
      "source": [
        "print('Loja Quase Dois - Tabela de preços')\n",
        "for i in range (1, 51):\n",
        "  preco = i * 1.99\n",
        "  print(f'{i} - R${preco:.2f}')\n"
      ],
      "metadata": {
        "colab": {
          "base_uri": "https://localhost:8080/"
        },
        "id": "BtT-oDP1aFcb",
        "outputId": "6d5620ad-40ad-46bc-b277-7060cb13a1a3"
      },
      "execution_count": null,
      "outputs": [
        {
          "output_type": "stream",
          "name": "stdout",
          "text": [
            "Loja Quase Dois - Tabela de preços\n",
            "1 - R$1.99\n",
            "2 - R$3.98\n",
            "3 - R$5.97\n",
            "4 - R$7.96\n",
            "5 - R$9.95\n",
            "6 - R$11.94\n",
            "7 - R$13.93\n",
            "8 - R$15.92\n",
            "9 - R$17.91\n",
            "10 - R$19.90\n",
            "11 - R$21.89\n",
            "12 - R$23.88\n",
            "13 - R$25.87\n",
            "14 - R$27.86\n",
            "15 - R$29.85\n",
            "16 - R$31.84\n",
            "17 - R$33.83\n",
            "18 - R$35.82\n",
            "19 - R$37.81\n",
            "20 - R$39.80\n",
            "21 - R$41.79\n",
            "22 - R$43.78\n",
            "23 - R$45.77\n",
            "24 - R$47.76\n",
            "25 - R$49.75\n",
            "26 - R$51.74\n",
            "27 - R$53.73\n",
            "28 - R$55.72\n",
            "29 - R$57.71\n",
            "30 - R$59.70\n",
            "31 - R$61.69\n",
            "32 - R$63.68\n",
            "33 - R$65.67\n",
            "34 - R$67.66\n",
            "35 - R$69.65\n",
            "36 - R$71.64\n",
            "37 - R$73.63\n",
            "38 - R$75.62\n",
            "39 - R$77.61\n",
            "40 - R$79.60\n",
            "41 - R$81.59\n",
            "42 - R$83.58\n",
            "43 - R$85.57\n",
            "44 - R$87.56\n",
            "45 - R$89.55\n",
            "46 - R$91.54\n",
            "47 - R$93.53\n",
            "48 - R$95.52\n",
            "49 - R$97.51\n",
            "50 - R$99.50\n"
          ]
        }
      ]
    },
    {
      "cell_type": "markdown",
      "source": [
        "#Problema 4\n",
        "O Sr. Manoel Joaquim acaba de adquirir uma panificadora e pretende implantar a metodologia da tabelinha, que já é um sucesso na sua loja de 1,99. Você foi contratado para desenvolver o programa que\n",
        "monta a tabela de preços de pães, de 1 até 50 pães, a partir do preço do pão informado pelo usuário.\n",
        "Observação: as mensagens exibidas para o usuário deverão ser exatamente como apresentado abaixo\n",
        "(mensagens exibidas com os comandos input() e print()).\n",
        "Exemplo de execução do programa:\n",
        "Digite o preço do pão: 0.18\n",
        "1 - R$ 0.18\n",
        "2 - R$ 0.36\n",
        "...\n",
        "50 - R$ 9.00"
      ],
      "metadata": {
        "id": "sdyqlS1mg70C"
      }
    },
    {
      "cell_type": "code",
      "source": [
        "inp = float(input('Digite o preço do pão: '))\n",
        "\n",
        "for i in range(1, 51):\n",
        "  pao = i * inp\n",
        "  print(f'{i} - R$ {pao:.2f}')"
      ],
      "metadata": {
        "colab": {
          "base_uri": "https://localhost:8080/"
        },
        "id": "3qNIw6QxhBgT",
        "outputId": "ccb0c459-1ee6-40e3-f501-2b40c73f663e"
      },
      "execution_count": null,
      "outputs": [
        {
          "output_type": "stream",
          "name": "stdout",
          "text": [
            "Digite o preço do pão: 0.18\n",
            "1 - R$ 0.18\n",
            "2 - R$ 0.36\n",
            "3 - R$ 0.54\n",
            "4 - R$ 0.72\n",
            "5 - R$ 0.90\n",
            "6 - R$ 1.08\n",
            "7 - R$ 1.26\n",
            "8 - R$ 1.44\n",
            "9 - R$ 1.62\n",
            "10 - R$ 1.80\n",
            "11 - R$ 1.98\n",
            "12 - R$ 2.16\n",
            "13 - R$ 2.34\n",
            "14 - R$ 2.52\n",
            "15 - R$ 2.70\n",
            "16 - R$ 2.88\n",
            "17 - R$ 3.06\n",
            "18 - R$ 3.24\n",
            "19 - R$ 3.42\n",
            "20 - R$ 3.60\n",
            "21 - R$ 3.78\n",
            "22 - R$ 3.96\n",
            "23 - R$ 4.14\n",
            "24 - R$ 4.32\n",
            "25 - R$ 4.50\n",
            "26 - R$ 4.68\n",
            "27 - R$ 4.86\n",
            "28 - R$ 5.04\n",
            "29 - R$ 5.22\n",
            "30 - R$ 5.40\n",
            "31 - R$ 5.58\n",
            "32 - R$ 5.76\n",
            "33 - R$ 5.94\n",
            "34 - R$ 6.12\n",
            "35 - R$ 6.30\n",
            "36 - R$ 6.48\n",
            "37 - R$ 6.66\n",
            "38 - R$ 6.84\n",
            "39 - R$ 7.02\n",
            "40 - R$ 7.20\n",
            "41 - R$ 7.38\n",
            "42 - R$ 7.56\n",
            "43 - R$ 7.74\n",
            "44 - R$ 7.92\n",
            "45 - R$ 8.10\n",
            "46 - R$ 8.28\n",
            "47 - R$ 8.46\n",
            "48 - R$ 8.64\n",
            "49 - R$ 8.82\n",
            "50 - R$ 9.00\n"
          ]
        }
      ]
    },
    {
      "cell_type": "markdown",
      "source": [
        "#Problema 5\n",
        "Faça um programa que leia um número inteiro e imprima na tela se ele é ou não um número primo.\n",
        "Um número primo é aquele que é divisível somente por ele mesmo e por 1.\n",
        "Observação: as mensagens exibidas para o usuário deverão ser exatamente como apresentado abaixo\n",
        "(mensagens exibidas com os comandos input() e print()).\n",
        "Exemplo de execução do programa:\n",
        "Digite um inteiro n: 2\n",
        "É primo\n",
        "Exemplo de execução do programa:\n",
        "Digite um inteiro n: 4\n",
        "Não é primo"
      ],
      "metadata": {
        "id": "TrvtZNIRhzmN"
      }
    },
    {
      "cell_type": "code",
      "source": [
        "import math\n",
        "\n",
        "n = int(input(\"Digite um inteiro n: \"))\n",
        "\n",
        "if n < 2:\n",
        "    primo = False\n",
        "elif n == 2:\n",
        "    primo = True\n",
        "elif n % 2 == 0:\n",
        "    primo = False\n",
        "else:\n",
        "    primo = True\n",
        "    for i in range(3, int(math.sqrt(n)) + 1, 2):\n",
        "        if n % i == 0:\n",
        "            primo = False\n",
        "            break\n",
        "\n",
        "if primo:\n",
        "    print(\"É primo\")\n",
        "else:\n",
        "    print(\"Não é primo\")\n"
      ],
      "metadata": {
        "colab": {
          "base_uri": "https://localhost:8080/"
        },
        "id": "AV_YebuwXTIy",
        "outputId": "9d888e5f-5a65-4880-c92c-c2e64903e34a"
      },
      "execution_count": null,
      "outputs": [
        {
          "output_type": "stream",
          "name": "stdout",
          "text": [
            "é primo\n"
          ]
        }
      ]
    },
    {
      "cell_type": "markdown",
      "source": [
        "#Problema 6\n",
        "A série de Fibonacci é formada pela sequência 1, 1, 2, 3, 5, 8, 13, 21, 34, 55,... Faça um programa que\n",
        "imprima na tela o n-ésimo termo, onde n é um inteiro informado pelo usuário.\n",
        "Observação: as mensagens exibidas para o usuário deverão ser exatamente como apresentado abaixo\n",
        "(mensagens exibidas com os comandos input() e print()).\n",
        "Exemplo de execução do programa:\n",
        "Digite um inteiro n: 7\n",
        "13\n",
        "Exemplo de execução do programa:\n",
        "Digite um inteiro n: 3\n",
        "2"
      ],
      "metadata": {
        "id": "QRRFHfPBc4QC"
      }
    },
    {
      "cell_type": "code",
      "source": [
        "#fibonacci começa com 0 e 1 e soma e cada número novo é a soma dos 2 anteriores.\n",
        "#sendo assim, a primeira definição será essa: fibonacci = fibonacci(num - 1) + fibonacci(num - 2)\n",
        "\n",
        "num = int(input('Digite um inteiro n: '))\n",
        "def fibonacci(num):\n",
        "  if num <= 1:\n",
        "    return num\n",
        "  else:\n",
        "    numeros =  fibonacci(num - 1) + fibonacci(num - 2)\n",
        "    return numeros\n",
        "\n",
        "numeros = fibonacci(num)\n",
        "print(numeros)"
      ],
      "metadata": {
        "colab": {
          "base_uri": "https://localhost:8080/"
        },
        "id": "wUJJHJMyc8wj",
        "outputId": "07fddeae-83cf-4915-bf21-01ce57eb58e9"
      },
      "execution_count": null,
      "outputs": [
        {
          "output_type": "stream",
          "name": "stdout",
          "text": [
            "Digite um inteiro n: 3\n",
            "2\n"
          ]
        }
      ]
    },
    {
      "cell_type": "markdown",
      "source": [
        "#Problema 7\n",
        "Escreva um programa que faça a leitura de vários números inteiros até que se digite um número negativo. Em seguida, imprima na tela a soma de todos os números digitados (com exceção do número\n",
        "negativo).\n",
        "Observação: as mensagens exibidas para o usuário deverão ser exatamente como apresentado abaixo\n",
        "(mensagens exibidas com os comandos input() e print()).\n",
        "Exemplo 1 de execução do programa:\n",
        "Digite um número: 1\n",
        "Digite um número: 2\n",
        "Digite um número: 3\n",
        "Digite um número: 4\n",
        "Digite um número: -5\n",
        "Soma: 10\n",
        "Exemplo 2 de execução do programa:\n",
        "Digite um número: 1\n",
        "Digite um número: 1\n",
        "Digite um número: 1\n",
        "Digite um número: -1\n",
        "Soma: 3\n",
        "Exemplo 3 de execução do programa:\n",
        "Digite um número: 1\n",
        "Digite um número: -1\n",
        "Soma: 1"
      ],
      "metadata": {
        "id": "caggfE6Ret0e"
      }
    },
    {
      "cell_type": "code",
      "source": [
        "soma = 0\n",
        "\n",
        "while True:\n",
        "  numero = int(input('Digite um número: '))\n",
        "  if numero < 0:\n",
        "    break\n",
        "  soma += numero\n",
        "\n",
        "print(f'Soma: {soma}')"
      ],
      "metadata": {
        "colab": {
          "base_uri": "https://localhost:8080/"
        },
        "id": "mdNrBLEUevRL",
        "outputId": "10df4c10-5743-4627-d37e-673bba1ccc6f"
      },
      "execution_count": null,
      "outputs": [
        {
          "output_type": "stream",
          "name": "stdout",
          "text": [
            "Digite um número: 1\n",
            "Digite um número: 2\n",
            "Digite um número: 1\n",
            "Digite um número: 1\n",
            "Digite um número: -1\n",
            "Soma: 5\n"
          ]
        }
      ]
    },
    {
      "cell_type": "markdown",
      "source": [
        "#Problema 8\n",
        "Escreva uma função chamada quantidade_pares que receba como parâmetros dois números inteiros (inicio e fim) representando o início e o fim de um intervalo. A função deve então retornar a\n",
        "quantidade de números pares no intervalo [inicio, fim]. Você pode assumir que os parâmetros passados para a função sempre obedecerão a condição de que inicio ≤ fim.\n",
        "Observação 1: O nome da função deve ser exatamente como especificado acima e seu arquivo deve\n",
        "obrigatoriamente se chamar problema8.py.\n",
        "Observação 2: Seu programa deve conter apenas a função descrita acima. Você não precisa realizar a\n",
        "entrada e saída de dados (não precisa usar as funções input() e print()).\n",
        "Exemplo 1 de execução do programa:\n",
        "Digite o início do intervalo: 1\n",
        "Digite o final do intervalo: 10\n",
        "Quantidade de números pares: 5\n",
        "Exemplo 2 de execução do programa:\n",
        "Digite o início do intervalo: 2\n",
        "Digite o final do intervalo: 2\n",
        "Quantidade de números pares: 1"
      ],
      "metadata": {
        "id": "JKx8jLQGhWOS"
      }
    },
    {
      "cell_type": "code",
      "source": [
        "inicio = int(input('Digite o inicio do intervalo: '))\n",
        "fim = int(input('Digite o final do intervalo: '))\n",
        "\n",
        "#primeiro eu digito os valors\n",
        "#depois eu faço o intervalo/diferença\n",
        "\n",
        "def quantidade_pares(inicio, fim):\n",
        "  pares = 0\n",
        "  for i in range(inicio, fim + 1):\n",
        "    if i % 2 == 0:\n",
        "      pares += 1\n",
        "    else:\n",
        "      pass\n",
        "  return pares\n",
        "\n",
        "intervalo = quantidade_pares(inicio, fim)\n",
        "print(f'Quantidade de números pares: {intervalo}')"
      ],
      "metadata": {
        "id": "I8a-cI1mhZEI",
        "colab": {
          "base_uri": "https://localhost:8080/",
          "height": 0
        },
        "outputId": "fab34a92-db75-40a2-c869-bf973f617894"
      },
      "execution_count": 44,
      "outputs": [
        {
          "output_type": "stream",
          "name": "stdout",
          "text": [
            "Digite o inicio do intervalo: 3\n",
            "Digite o final do intervalo: 6\n",
            "Quantidade de números pares: 2\n"
          ]
        }
      ]
    },
    {
      "cell_type": "markdown",
      "source": [
        "#Problema 9\n",
        "Escreva um programa que faça a leitura de vários números inteiros até que se digite um número negativo. Em seguida, imprima na tela a soma de todos os números pares e de todos os números ímpares\n",
        "digitados (com exceção do número negativo).\n",
        "Observação: as mensagens exibidas para o usuário deverão ser exatamente como apresentado abaixo\n",
        "(mensagens exibidas com os comandos input() e print()).\n",
        "Exemplo 1 de execução do programa:\n",
        "Digite um número: 1\n",
        "Digite um número: 2\n",
        "Digite um número: 3\n",
        "Digite um número: 4\n",
        "Digite um número: 5\n",
        "Digite um número: 6\n",
        "Digite um número: -1\n",
        "Soma pares: 12\n",
        "Soma ímpares: 9\n",
        "Exemplo 2 de execução do programa:\n",
        "Digite um número: 1\n",
        "Digite um número: 1\n",
        "Digite um número: -5\n",
        "Soma pares: 0\n",
        "Soma ímpares: 2\n",
        "Exemplo 3 de execução do programa:\n",
        "Digite um número: 2\n",
        "Digite um número: 2\n",
        "Digite um número: -2\n",
        "Soma pares: 4\n",
        "Soma ímpares: 0"
      ],
      "metadata": {
        "id": "d6og7ioVd8Lo"
      }
    },
    {
      "cell_type": "code",
      "source": [
        "impares = 0\n",
        "pares = 0\n",
        "\n",
        "while True:\n",
        "  inp = int(input('Digite um número: '))\n",
        "  if inp < 0:\n",
        "    break\n",
        "  elif inp % 2 == 0:\n",
        "    pares += inp\n",
        "  else:\n",
        "    impares += inp\n",
        "\n",
        "print(f'Soma pares: {pares}')\n",
        "print(f'Soma ímpares: {impares}')\n"
      ],
      "metadata": {
        "id": "K8ndrNHXd90J",
        "colab": {
          "base_uri": "https://localhost:8080/",
          "height": 0
        },
        "outputId": "391071a3-a6f5-4698-8d67-66b0916c7277"
      },
      "execution_count": 25,
      "outputs": [
        {
          "output_type": "stream",
          "name": "stdout",
          "text": [
            "Digite um número: 1\n",
            "Digite um número: 2\n",
            "Digite um número: 3\n",
            "Digite um número: 4\n",
            "Digite um número: 5\n",
            "Digite um número: 6\n",
            "Digite um número: -1\n",
            "Soma de pares: 12\n",
            "Soma de ímpares: 9\n"
          ]
        }
      ]
    },
    {
      "cell_type": "markdown",
      "source": [
        "#Problema 10\n",
        "Escreva uma função chamada soma_divisores que recebe como parâmetro um número inteiro n e\n",
        "retorna a soma de todos os divisores desse número, com exceção dele próprio. Ou seja, considere o\n",
        "intervalo [1,n).\n",
        "5\n",
        "Observação 1: O nome da função deve ser exatamente como especificado acima e seu arquivo deve\n",
        "obrigatoriamente se chamar problema10.py.\n",
        "Observação 2: Seu programa deve conter apenas a função descrita acima. Você não precisa realizar a\n",
        "entrada e saída de dados (não precisa usar as funções input() e print()).\n",
        "Exemplo 1 de execução do programa:\n",
        "Digite um número: 100\n",
        "Resultado: 117\n",
        "Exemplo 2 de execução do programa:\n",
        "Digite um número: 39\n",
        "Resultado: 17"
      ],
      "metadata": {
        "id": "SPpVZy21eBA5"
      }
    },
    {
      "cell_type": "code",
      "source": [
        "n = int(input('Digite o número: '))\n",
        "\n",
        "def soma_divisores(n):\n",
        "  soma_div = 0\n",
        "  for i in range(1, n):\n",
        "    if n % i == 0:\n",
        "      soma_div += i\n",
        "    else:\n",
        "      pass\n",
        "  return soma_div\n",
        "\n",
        "soma_div = soma_divisores(n)\n",
        "print(soma_div)"
      ],
      "metadata": {
        "id": "WTWLVpTbeCl7",
        "colab": {
          "base_uri": "https://localhost:8080/",
          "height": 0
        },
        "outputId": "8d31c6c4-3537-4fd8-e651-ef6dbde1ca86"
      },
      "execution_count": 35,
      "outputs": [
        {
          "output_type": "stream",
          "name": "stdout",
          "text": [
            "Digite o número: 39\n",
            "17\n"
          ]
        }
      ]
    }
  ]
}