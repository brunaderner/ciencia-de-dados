{
  "nbformat": 4,
  "nbformat_minor": 0,
  "metadata": {
    "colab": {
      "provenance": []
    },
    "kernelspec": {
      "name": "python3",
      "display_name": "Python 3"
    },
    "language_info": {
      "name": "python"
    }
  },
  "cells": [
    {
      "cell_type": "markdown",
      "source": [
        "# Instruções para Submissão\n",
        "Na aula prática de hoje, você terá que elaborar programas para resolver problemas diversos, conforme\n",
        "descrito abaixo. Cada uma das soluções deverá ser implementada em seu próprio arquivo com extensão .py. Por exemplo, a solução para o problema 1 deverá ser implementada em um arquivo chamado\n",
        "problema1.py, a solução para o problema 2 deverá ser implementada no arquivo problema2.py e\n",
        "assim por diante. Finalmente, submeta cada um dos arquivos pelo Moodle.\n",
        "Dica: se você tiver problemas com caracteres especiais (caracteres com acentos, por exemplo), adicione a linha abaixo na primeira linha de todos os arquivos *.py\n",
        "# -*- coding: utf-8"
      ],
      "metadata": {
        "id": "eWeWWFZHrZf6"
      }
    },
    {
      "cell_type": "markdown",
      "source": [
        "#Problema 1\n",
        "Faça um programa que leia cinco números inteiros e identifique:\n",
        "• O maior valor informado\n",
        "• O menor valor informado\n",
        "• Quantos números são divisíveis por 3\n",
        "Observação: as mensagens exibidas para o usuário deverão ser exatamente como apresentado abaixo\n",
        "(mensagens exibidas com os comandos input() e print()).\n",
        "Exemplo de execução do programa:\n",
        "Digite o primeiro inteiro: 2\n",
        "Digite o segundo inteiro: 1\n",
        "Digite o terceiro inteiro: 5\n",
        "Digite o quarto inteiro: 3\n",
        "Digite o quinto inteiro: 4\n",
        "Maior: 5\n",
        "Menor: 1\n",
        "Quantidade de divisíveis por 3: 1"
      ],
      "metadata": {
        "id": "g7_eVgItrhn3"
      }
    },
    {
      "cell_type": "code",
      "execution_count": null,
      "metadata": {
        "colab": {
          "base_uri": "https://localhost:8080/"
        },
        "id": "ma-ivhksrWLI",
        "outputId": "7153c738-270d-4dee-eb9d-f99ef0413961"
      },
      "outputs": [
        {
          "output_type": "stream",
          "name": "stdout",
          "text": [
            "Digite o primeiro inteiro: 27\n",
            "Digite o segundo inteiro: 21\n",
            "Digite o terceiro inteiro: 12\n",
            "Digite o quarto inteiro: 9\n",
            "Digite o quinto inteiro: 3\n",
            "Maior: 27\n",
            "Menor: 3\n",
            "Quantidade de divisíveis por 3: 5\n"
          ]
        }
      ],
      "source": [
        "primeiro = int(input('Digite o primeiro inteiro: '))\n",
        "segundo = int(input('Digite o segundo inteiro: '))\n",
        "terceiro = int(input('Digite o terceiro inteiro: '))\n",
        "quarto = int(input('Digite o quarto inteiro: '))\n",
        "quinto = int(input('Digite o quinto inteiro: '))\n",
        "\n",
        "lista = [primeiro, segundo, terceiro, quarto, quinto]\n",
        "\n",
        "divisivel = 0\n",
        "for numero in lista:\n",
        "  if numero % 3 == 0:\n",
        "    divisivel += 1\n",
        "\n",
        "print(f'Maior: {max(lista)}')\n",
        "print(f'Menor: {min(lista)}')\n",
        "print(f'Quantidade de divisíveis por 3: {divisivel}')\n"
      ]
    },
    {
      "cell_type": "markdown",
      "source": [
        "# Problema 2\n",
        "Um motorista que ultrapassa a velocidade máxima permitida estará sujeito a uma infração média,\n",
        "grave ou gravíssima. Faça um programa que receba dois valores: a velocidade máxima de uma via e\n",
        "a velocidade registrada por um radar. Em seguida, o programa deve imprimir na tela se o motorista\n",
        "cometeu algum tipo de infração. Considere que as multas são definidas conforme a tabela abaixo:\n",
        "Excesso de velocidade sobre a máxima permitida Natureza da infração\n",
        "Menor ou igual a velocidade máxima Sem Infração\n",
        "Até 20% Infração Média\n",
        "Acima de 20% até 50% Infração Grave\n",
        "Acima de 50% Infração Gravíssima\n",
        "Observação: as mensagens exibidas para o usuário deverão ser exatamente como apresentado abaixo\n",
        "(mensagens exibidas com os comandos input() e print()). A saída do programa será uma das mensagens apresentadas na coluna Natureza da infração da tabela acima.\n",
        "Exemplo de execução do programa:\n",
        "Digite o valor da velocidade máxima: 60\n",
        "Digite o valor da velocidade registrada: 60\n",
        "Sem Infração\n",
        "Exemplo de execução do programa:\n",
        "Digite o valor da velocidade máxima: 100\n",
        "Digite o valor da velocidade registrada: 160\n",
        "Infração Gravíssima"
      ],
      "metadata": {
        "id": "SXLDPo-v1Z1A"
      }
    },
    {
      "cell_type": "code",
      "source": [
        "maxima = float(input('Digite o valor da velocidade máxima: '))\n",
        "registrada = float(input('Digite o valor da velocidade registrada: '))\n",
        "\n",
        "media = maxima * 1.20\n",
        "grave = maxima * 1.50\n",
        "\n",
        "if registrada <= maxima :\n",
        "  print('Sem infração')\n",
        "elif registrada <= media:\n",
        "  print('Infração Média')\n",
        "elif media < registrada < grave:\n",
        "  print('Infração Grave')\n",
        "elif registrada > grave :\n",
        "  print('Infração Gravíssima')"
      ],
      "metadata": {
        "colab": {
          "base_uri": "https://localhost:8080/"
        },
        "id": "j1WKHreS1hEx",
        "outputId": "4b7505d4-b6ac-46a8-b82f-d7fbd2d682b6"
      },
      "execution_count": null,
      "outputs": [
        {
          "output_type": "stream",
          "name": "stdout",
          "text": [
            "Digite o valor da velocidade máxima: 80\n",
            "Digite o valor da velocidade registrada: 96\n",
            "96.0\n",
            "120.0\n",
            "Infração Média\n"
          ]
        }
      ]
    },
    {
      "cell_type": "markdown",
      "source": [
        "#Problema 3\n",
        "A redação atual do parágrafo 1o do artigo 40 da Constituição Federal estabelece que um servidor público poderá se aposentar voluntariamente desde que tenha cumprido um tempo mínimo de exercício\n",
        "no serviço público e atenda uma das seguintes condições:\n",
        "• 60 anos de idade e 35 de contribuição, se homem, e 55 anos de idade e 30 de contribuição, se\n",
        "mulher; ou,\n",
        "• 65 anos de idade, se homem, e 60 anos de idade, se mulher, não importando o tempo de contribuição.\n",
        "Faça um programa que receba a idade, o tempo de contribuição e o sexo de um servidor público e\n",
        "imprima na tela se esse servidor pode se aposentar ou não. Utilize o caractere \"M\"para representar o\n",
        "sexo masculino e \"F\"para representar o sexo feminino.\n",
        "Observação: as mensagens exibidas para o usuário deverão ser exatamente como apresentado abaixo\n",
        "(mensagens exibidas com os comandos input() e print()).\n",
        "Exemplo de execução do programa:\n",
        "Digite a idade: 60\n",
        "Digite o tempo de contribuição: 35\n",
        "Digite o sexo (M/F): M\n",
        "Pode aposentar\n",
        "Exemplo de execução do programa:\n",
        "Digite a idade: 60\n",
        "Digite o tempo de contribuição: 30\n",
        "Digite o sexo (M/F): M\n",
        "Não pode aposentar"
      ],
      "metadata": {
        "id": "0Cc9sK8Q5L-U"
      }
    },
    {
      "cell_type": "code",
      "source": [
        "idade = int(input('Digite a idade: '))\n",
        "contribuicao = int(input('Digite o tempo de contribuição: '))\n",
        "sexo = input('Digite o sexo (M/F): ')\n",
        "\n",
        "if idade >= 55 and sexo == 'F' and contribuicao >= 30:\n",
        "  print('Pode aposentar')\n",
        "elif idade >= 60 and sexo == 'M' and contribuicao >= 35:\n",
        "  print('Pode aposentar')\n",
        "elif idade >= 60 and sexo == 'F':\n",
        "  print('Pode aposentar')\n",
        "elif idade >= 65 and sexo == 'M':\n",
        "  print('Pode aposentar')\n",
        "else:\n",
        "  print('Não pode aposentar')"
      ],
      "metadata": {
        "colab": {
          "base_uri": "https://localhost:8080/"
        },
        "id": "ATNQIiEu5Ucr",
        "outputId": "5b16487c-042b-4f87-eb76-efee3bae3672"
      },
      "execution_count": 2,
      "outputs": [
        {
          "output_type": "stream",
          "name": "stdout",
          "text": [
            "Digite a idade: 60\n",
            "Digite o tempo de contribuição: 30\n",
            "Digite o sexo (M/F): M\n",
            "Não pode aposentar\n"
          ]
        }
      ]
    },
    {
      "cell_type": "markdown",
      "source": [
        "#Problema 4\n",
        "As Organizações Tabajara resolveram dar um aumento de salário aos seus colaboradores e lhe contrataram para desenvolver o programa que calculará os valores dos reajustes. Faça um programa que\n",
        "receba o salário de um colaborador, calcula o reajuste segundo a tabela abaixo, e exibe o valor do\n",
        "aumento e o valor do novo salário.\n",
        "Salário atual Porcentagem de aumento\n",
        "Salários até R$ 280,00 Aumento de 20%\n",
        "Maior que R$ 280,00 até R$ 700,00 Aumento de 15%\n",
        "Maior que R$ 700,00 até R$ 1500,00 Aumento de 10%\n",
        "Maior que R$ 1500,00 Aumento de 5%\n",
        "Observação: as mensagens exibidas para o usuário deverão ser exatamente como apresentado abaixo\n",
        "(mensagens exibidas com os comandos input() e print()).\n",
        "Exemplo de execução do programa:\n",
        "Digite o valor do salário: 280.00\n",
        "Valor do aumento: 56.00\n",
        "Novo salário: 336.0\n",
        "Exemplo de execução do programa:\n",
        "Digite o valor do salário: 785.00\n",
        "Valor do aumento: 78.50\n",
        "Novo salário: 863.50"
      ],
      "metadata": {
        "id": "-CnyiEqPjO3n"
      }
    },
    {
      "cell_type": "code",
      "source": [
        "salario = float(input('Digite o valor do salário: '))\n",
        "\n",
        "aumento_vinte = salario * 1.2\n",
        "aumento_quinze = salario * 1.15\n",
        "aumento_dez = salario * 1.1\n",
        "aumento_cinco = salario * 1.05\n",
        "\n",
        "if salario <= 280.00 :\n",
        "  print(f'Valor do aumento: {(aumento_vinte - salario):.2f}')\n",
        "  print(f'Novo salário: {aumento_vinte:.2f}')\n",
        "elif 280.00 < salario <= 700.00 :\n",
        "  print(f'Valor do aumento: {(aumento_quinze - salario):.2f}')\n",
        "  print(f'Novo salário: {aumento_quinze:.2f}')\n",
        "elif 700.00 < salario <= 1500.00 :\n",
        "  print(f'Valor do aumento: {(aumento_dez - salario):.2f}')\n",
        "  print(f'Novo salário: {aumento_dez:.2f}')\n",
        "else:\n",
        "  print(f'Valor do aumento: {(aumento_cinco - salario):.2f}')\n",
        "  print(f'Novo salário: {aumento_cinco:.2f}')"
      ],
      "metadata": {
        "colab": {
          "base_uri": "https://localhost:8080/"
        },
        "id": "8TqjqJ_KjUwm",
        "outputId": "9ae7c23f-4954-4b46-a945-73db89b0be63"
      },
      "execution_count": 6,
      "outputs": [
        {
          "output_type": "stream",
          "name": "stdout",
          "text": [
            "Digite o valor do salário: 1550\n",
            "Valor do aumento: 77.50\n",
            "Novo salário: 1627.50\n"
          ]
        }
      ]
    },
    {
      "cell_type": "markdown",
      "source": [
        "#Problema 5\n",
        "Faça um programa que leia um número fornecido pelo usuário. Se esse número for positivo, calcule a\n",
        "raiz quadrada do número e exiba o resultado com três casas decimais. Se o número for negativo, exiba\n",
        "a mensagem \"Número inválido\". O programa não deve imprimir nada além disso na tela.\n",
        "Observação: as mensagens exibidas para o usuário deverão ser exatamente como apresentado abaixo\n",
        "(mensagens exibidas com os comandos input() e print()).\n",
        "Exemplo 1 de execução do programa:\n",
        "Digite um número: 2\n",
        "Resultado: 1.414\n",
        "Exemplo 2 de execução do programa:\n",
        "Digite um número: -1\n",
        "Número inválido"
      ],
      "metadata": {
        "id": "Lmhq6ii8zDWn"
      }
    },
    {
      "cell_type": "code",
      "source": [
        "import math\n",
        "\n",
        "num = int(input('Digite um número: '))\n",
        "\n",
        "if num >= 0 :\n",
        "  print(f'Resultado: {math.sqrt(num):.3f}')\n",
        "else:\n",
        "  print('Número inválido')"
      ],
      "metadata": {
        "colab": {
          "base_uri": "https://localhost:8080/"
        },
        "id": "cbG-SuppzVcS",
        "outputId": "4fc07401-e765-4a4c-cbe7-e6089dfb48d4"
      },
      "execution_count": 13,
      "outputs": [
        {
          "output_type": "stream",
          "name": "stdout",
          "text": [
            "Digite um número: 0\n",
            "Resultado: 0.000\n"
          ]
        }
      ]
    },
    {
      "cell_type": "markdown",
      "source": [
        "#Problema 6\n",
        "O custo total ao consumidor de um carro novo é a soma do custo de fábrica, da comissão do distribuidor, e dos impostos. A comissão e os impostos são calculados sobre o custo de fábrica, de acordo com\n",
        "a tabela abaixo. Faça um programa que leia o custo de fábrica de um carro novo e imprima na tela o\n",
        "custo total ao consumidor.\n",
        "Custo de fábrica % do distribuidor % dos impostos\n",
        "até R$12.000,00 5% isento\n",
        "acima de R$12.000,00 até R$25.000,00 10% 15%\n",
        "acima de R$25.000,00 15% 20%\n",
        "Observação: as mensagens exibidas para o usuário deverão ser exatamente como apresentado abaixo\n",
        "(mensagens exibidas com os comandos input() e print()).\n",
        "Exemplo 1 de execução do programa:\n",
        "Digite o custo de fábrica: 12000.00\n",
        "Custo total: 12600.00\n",
        "Exemplo 2 de execução do programa:\n",
        "Digite o custo de fábrica: 12000.01\n",
        "Custo total: 15000.01"
      ],
      "metadata": {
        "id": "RrLOpD5z0t-W"
      }
    },
    {
      "cell_type": "code",
      "source": [
        "custo = float(input('Digite o custo de fábrica: '))\n",
        "\n",
        "if custo <= 12000.00 :\n",
        "  print(f'Custo total: {(custo * 1.05):.2f}')\n",
        "elif 12000.00 < custo <= 25000.00 :\n",
        "  print(f'Custo total: {((custo * 1.1) + ((custo * 1.15) -  custo)):.2f}')\n",
        "else:\n",
        "  print(f'Custo total: {((custo * 1.15) + ((custo * 1.2) -  custo)):.2f}')\n"
      ],
      "metadata": {
        "colab": {
          "base_uri": "https://localhost:8080/"
        },
        "id": "EGP751gz1dzV",
        "outputId": "25e0d18a-4de7-4ed2-cd83-eb0aeceed6b5"
      },
      "execution_count": 19,
      "outputs": [
        {
          "output_type": "stream",
          "name": "stdout",
          "text": [
            "Digite o custo de fábrica: 12000.01\n",
            "Custo total: 15000.01\n"
          ]
        }
      ]
    },
    {
      "cell_type": "markdown",
      "source": [
        "#Problema 7\n",
        "Faça um programa que receba um número inteiro e verifique se este número é par ou ímpar. Caso\n",
        "seja par, imprima a mensagem \"Par\", caso contrário, imprima a mensagem \"Ímpar\".\n",
        "Observação: as mensagens exibidas para o usuário deverão ser exatamente como apresentado abaixo\n",
        "(mensagens exibidas com os comandos input() e print()).\n",
        "Exemplo 1 de execução do programa:\n",
        "Digite um inteiro: 1\n",
        "Ímpar\n",
        "Exemplo 2 de execução do programa:\n",
        "Digite um inteiro: 2\n",
        "Par"
      ],
      "metadata": {
        "id": "ff6nrCH476wf"
      }
    },
    {
      "cell_type": "code",
      "source": [
        "inteiro = int(input('Digite um inteiro: '))\n",
        "\n",
        "if inteiro % 2 == 0 :\n",
        "  print('Par')\n",
        "else:\n",
        "  print('Ímpar')"
      ],
      "metadata": {
        "colab": {
          "base_uri": "https://localhost:8080/"
        },
        "id": "l9yRcZ2879Cl",
        "outputId": "665773ec-3ef0-4d09-eee0-a315971bfc7f"
      },
      "execution_count": 21,
      "outputs": [
        {
          "output_type": "stream",
          "name": "stdout",
          "text": [
            "Digite um inteiro: 3\n",
            "Ímpar\n"
          ]
        }
      ]
    },
    {
      "cell_type": "markdown",
      "source": [
        "#Problema 8\n",
        "Faça um programa que leia duas notas de um aluno, verifique se as notas são válidas e exiba na tela\n",
        "a média dessas notas. Uma nota válida deve ser, obrigatoriamente, um valor entre 0 e 10. Caso uma\n",
        "das notas não possua um valor válido, o programa deve exibir a mensagem \"Nota inválida\". O resultado deve ser exibido com duas casas decimais de precisão.\n",
        "Observação: as mensagens exibidas para o usuário deverão ser exatamente como apresentado abaixo\n",
        "(mensagens exibidas com os comandos input() e print()).\n",
        "Exemplo 1 de execução do programa:\n",
        "Digite a primeira nota: 7.0\n",
        "Digite a segunda nota: 8.0\n",
        "Média: 7.50\n",
        "Exemplo 2 de execução do programa:\n",
        "Digite a primeira nota: 100.0\n",
        "Digite a segunda nota: 8.5\n",
        "Nota inválida"
      ],
      "metadata": {
        "id": "oSN8td1I8sA1"
      }
    },
    {
      "cell_type": "code",
      "source": [
        "nota1 = float(input('Digite a primeira nota: '))\n",
        "nota2 = float(input('Digite a segunda nota: '))\n",
        "\n",
        "if 0 <= nota1 <= 10 and 0 <= nota2 <= 10 :\n",
        "  print(f'Média: {((nota1 + nota2)/2):.2f}')\n",
        "else:\n",
        "  print('Nota inválida')\n"
      ],
      "metadata": {
        "colab": {
          "base_uri": "https://localhost:8080/"
        },
        "id": "vDnozpYT8xvm",
        "outputId": "1acb0fc9-f7b8-4304-fb8f-b8c59a26c2d4"
      },
      "execution_count": 25,
      "outputs": [
        {
          "output_type": "stream",
          "name": "stdout",
          "text": [
            "Digite a primeira nota: 7\n",
            "Digite a segunda nota: 8\n",
            "Média: 7.50\n"
          ]
        }
      ]
    },
    {
      "cell_type": "markdown",
      "source": [
        "#Problema 9\n",
        "Uma empresa vende o mesmo produto para quatro estados diferentes. Cada estado possui uma taxa\n",
        "de imposto sobre o produto, como indicado na tabela abaixo. Faça um programa em que o usuário\n",
        "entre com o valor e a sigla do estado destino do produto e o programa retorne o preço final do produto acrescido do imposto do estado em que ele será vendido. Caso o estado inserido não seja um\n",
        "dos estados válidos, imprima a mensagem \"Estado inválido\".\n",
        "Estado Taxa de imposto\n",
        "MG 7%\n",
        "SP 12%\n",
        "RJ 15%\n",
        "MS 8%\n",
        "Observação: as mensagens exibidas para o usuário deverão ser exatamente como apresentado abaixo\n",
        "(mensagens exibidas com os comandos input() e print()).\n",
        "Exemplo 1 de execução do programa:\n",
        "Digite o valor do produto: 12.55\n",
        "Digite o estado: MG\n",
        "Valor final: 13.43\n",
        "Exemplo 2 de execução do programa:\n",
        "Digite o valor do produto: 150.00\n",
        "Digite o estado: PR\n",
        "Estado inválido"
      ],
      "metadata": {
        "id": "iZ5Gve0ZB78n"
      }
    },
    {
      "cell_type": "code",
      "source": [
        "valor = float(input('Digite o valor do produto: '))\n",
        "estado = input('Digite o estado: ')\n",
        "\n",
        "if estado == 'MG' :\n",
        "  print(f'Valor final: {(valor * 1.07):.2f}')\n",
        "elif estado == 'SP' :\n",
        "  print(f'Valor final: {(valor * 1.12):.2f}')\n",
        "elif estado == 'RJ' :\n",
        "  print(f'Valor final: {(valor * 1.15):.2f}')\n",
        "elif estado == 'MS' :\n",
        "  print(f'Valor final: {(valor * 1.08):.2f}')\n",
        "else:\n",
        "  print('Estado inválido')"
      ],
      "metadata": {
        "colab": {
          "base_uri": "https://localhost:8080/"
        },
        "id": "bSKE0bvQCAbz",
        "outputId": "4f231c46-a493-4c9d-c57e-63a225abc9a0"
      },
      "execution_count": 28,
      "outputs": [
        {
          "output_type": "stream",
          "name": "stdout",
          "text": [
            "Digite o valor do produto: 150\n",
            "Digite o estado: PR\n",
            "Estado inválido\n"
          ]
        }
      ]
    },
    {
      "cell_type": "markdown",
      "source": [
        "#Problema 10\n",
        "Elabore um programa que leia uma data e determine se ela é válida. Ou seja, verifique se o mês está\n",
        "entre 1 e 12, e se o dia existe naquele mês. Note que fevereiro tem 29 dias em anos bissextos, e 28 dias\n",
        "em anos não bissextos. Além disso, os meses de abril, junho, setembro e novembro possuem 30 dias.\n",
        "Seu programa deve ler o dia, mês, e ano da data, nessa ordem. Se a data for válida, exiba a mensagem\n",
        "\"Data válida\". Caso contrário, exiba a mensagem \"Data inválida\".\n",
        "Dica: Um ano é bissexto se ele for múltiplo de 4 e não for múltiplo de 100, ou se ele for múltiplo de 400.\n",
        "Exemplo 1 de execução do programa:\n",
        "Digite o dia: 21\n",
        "Digite o mês: 8\n",
        "Digite o ano: 1987\n",
        "Data válida\n",
        "Exemplo 2 de execução do programa:\n",
        "Digite o dia: 29\n",
        "Digite o mês: 2\n",
        "Digite o ano: 2021\n",
        "Data inválida\n",
        "Exemplo 3 de execução do programa:\n",
        "Digite o dia: 31\n",
        "Digite o mês: 4\n",
        "Digite o ano: 2020\n",
        "Data inválida"
      ],
      "metadata": {
        "id": "Hjep-_wIDZZI"
      }
    },
    {
      "cell_type": "code",
      "source": [
        "dia = int(input('Digite o dia: '))\n",
        "mes = int(input('Digite o mês: '))\n",
        "ano = int(input('Digite o ano: '))\n",
        "\n",
        "if mes in {4, 6, 9,11}  and 1 <= dia <= 30 :\n",
        "    print('Data válida')\n",
        "elif mes in {1, 3, 5, 7, 8, 10, 12} and 1 <= dia <= 31 :\n",
        "    print('Data válida')\n",
        "elif mes == 2  and ano % 4 == 0 and ano % 100 != 0 or ano % 400 == 0 and 1 <= dia <= 29 :\n",
        "      print('Data válida')\n",
        "elif mes == 2  and ano % 4 != 0 and ano % 100 == 0 or ano % 400 != 0 and 1 <= dia <= 28 :\n",
        "      print('Data válida')\n",
        "else:\n",
        "  print('Data inválida')"
      ],
      "metadata": {
        "colab": {
          "base_uri": "https://localhost:8080/"
        },
        "id": "rAlRs8SYDdu1",
        "outputId": "a464d514-4fbc-4395-ce50-c9bcd1cecd06"
      },
      "execution_count": 37,
      "outputs": [
        {
          "output_type": "stream",
          "name": "stdout",
          "text": [
            "Digite o dia: 31\n",
            "Digite o mês: 4\n",
            "Digite o ano: 2020\n",
            "Data inválida\n"
          ]
        }
      ]
    }
  ]
}