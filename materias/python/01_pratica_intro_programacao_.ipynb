{
  "nbformat": 4,
  "nbformat_minor": 0,
  "metadata": {
    "colab": {
      "provenance": []
    },
    "kernelspec": {
      "name": "python3",
      "display_name": "Python 3"
    },
    "language_info": {
      "name": "python"
    }
  },
  "cells": [
    {
      "cell_type": "markdown",
      "source": [
        "#**Instruções para Submissão**\n",
        "Na aula prática de hoje, você terá que elaborar programas para resolver problemas diversos, conforme\n",
        "descrito abaixo. Cada uma das soluções deverá ser implementada em seu próprio arquivo com extensão .py. Por exemplo, a solução para o problema 1 deverá ser implementada em um arquivo chamado\n",
        "problema1.py, a solução para o problema 2 deverá ser implementada no arquivo problema2.py e\n",
        "assim por diante. Finalmente, submeta cada um dos arquivos pelo Moodle.\n",
        "Dica: se você tiver problemas com caracteres especiais (caracteres com acentos, por exemplo), adicione a linha abaixo na primeira linha de todos os arquivos *.py\n",
        "# -*- coding: utf-8 -*-\n"
      ],
      "metadata": {
        "id": "5D287zpZ5DAE"
      }
    },
    {
      "cell_type": "markdown",
      "source": [
        "##Problema 1 [problema1.py]"
      ],
      "metadata": {
        "id": "lLpT4gJ05aOu"
      }
    },
    {
      "cell_type": "markdown",
      "source": [
        "Escreva um programa que solicita ao usuário o raio de uma circunferência e o programa imprime na\n",
        "tela o valor do perímetro e da área dessa circunferência, além do volume da esfera formada por essa\n",
        "circunferência. Considere as seguintes fórmulas:\n",
        "• Perímetro = 2×π×r\n",
        "• Área = π×r\n",
        "2\n",
        "• Volume = 4×π×\n",
        "r\n",
        "3\n",
        "3\n",
        "Observação 1: utilize como valor de π a constante 3.1415\n",
        "Observação 2: as mensagens exibidas para o usuário deverão ser exatamente como apresentado\n",
        "abaixo (mensagens exibidas com os comandos input() e print()).\n",
        "Exemplo de execução do programa:\n",
        "Digite o valor do raio da circunferência: 5.0\n",
        "Perímetro: 31.42\n",
        "Área: 78.54\n",
        "Volume: 523.58"
      ],
      "metadata": {
        "id": "1IklevOS5Thd"
      }
    },
    {
      "cell_type": "code",
      "execution_count": 9,
      "metadata": {
        "colab": {
          "base_uri": "https://localhost:8080/"
        },
        "id": "G4nPDFMw5A_k",
        "outputId": "a45ee6c1-aa93-42cf-c1e7-eeabc8d6f075"
      },
      "outputs": [
        {
          "output_type": "stream",
          "name": "stdout",
          "text": [
            "Digite o valor do raio da circunferência: 5\n",
            "Perímetro: 31.42\n",
            "Área: 78.54\n",
            "Volume: 523.58\n"
          ]
        }
      ],
      "source": [
        "\n",
        "\n",
        "pi = 3.1415\n",
        "r = float(input('Digite o valor do raio da circunferência: '))\n",
        "\n",
        "\n",
        "perimetro = 2 * pi * r\n",
        "area = pi * r**2\n",
        "volume = 4 * pi * ((r**3)/3)\n",
        "\n",
        "print(f'Perímetro: {perimetro:.2f}')\n",
        "print(f'Área: {area:.2f}')\n",
        "print(f'Volume: {volume:.2f}')\n"
      ]
    },
    {
      "cell_type": "markdown",
      "source": [
        "#Problema 2 [problema2.py]"
      ],
      "metadata": {
        "id": "lbvYrUZH8Srp"
      }
    },
    {
      "cell_type": "markdown",
      "source": [
        "Escreva um programa que solicita ao usuário um valor de velocidade (v0), um valor de aceleração (a) e\n",
        "um valor de tempo (t) e o programa imprime na tela a velocidade final e a distância percorrida por um\n",
        "veículo após o intervalo de tempo t, com velocidade inicial igual a v0 e aceleração igual a a. Considere\n",
        "as seguintes fórmulas:\n",
        "• Velocidade final: v = v0 + a × t\n",
        "• Distância percorrida: s = v0 × t +\n",
        "a×t\n",
        "2\n",
        "2\n",
        "Observação: as mensagens exibidas para o usuário deverão ser exatamente como apresentado abaixo\n",
        "(mensagens exibidas com os comandos input() e print()).\n",
        "Exemplo de execução do programa:\n",
        "Digite o valor da velocidade: 100.0\n",
        "Digite o valor da aceleração: 5.0\n",
        "Digite o valor do tempo: 60.0\n",
        "Velocidade final: 400.00\n",
        "Distância percorrida: 15000.00"
      ],
      "metadata": {
        "id": "DHlUyRNB8QcA"
      }
    },
    {
      "cell_type": "code",
      "source": [
        "v0 = float(input('Digite o valor da velocidade: '))\n",
        "a = float(input('Digite o valor da aceleração: '))\n",
        "t = float(input('Digite o valor do tempo: '))\n",
        "\n",
        "v = v0 + a * t\n",
        "s = v0 * t + ((a*(t**2))/2)\n",
        "\n",
        "print(f'Velocidade final: {v:.2f}')\n",
        "print(f'Distância percorrida: {s:.2f}')\n"
      ],
      "metadata": {
        "colab": {
          "base_uri": "https://localhost:8080/"
        },
        "id": "mu0zhhNT8PsY",
        "outputId": "45ffd90a-d3d2-4c30-fc3c-622be645895d"
      },
      "execution_count": 10,
      "outputs": [
        {
          "output_type": "stream",
          "name": "stdout",
          "text": [
            "Digite a velocidade: 100\n",
            "Digite a aceleração: 5\n",
            "Digite o valor de tempo: 60\n",
            "Velocidade final: 400.00\n",
            "Distância percorrida: 15000.00\n"
          ]
        }
      ]
    },
    {
      "cell_type": "markdown",
      "source": [
        "#Problema 3 [problema3.py]"
      ],
      "metadata": {
        "id": "HFh1IhL2_dKC"
      }
    },
    {
      "cell_type": "markdown",
      "source": [
        "Escreva um programa que solicita ao usuário um intervalo de tempo em segundos e o programa imprime na tela o valor correspondente em horas, minutos e segundos.\n",
        "Observação: as mensagens exibidas para o usuário deverão ser exatamente como apresentado abaixo\n",
        "(mensagens exibidas com os comandos input() e print()).\n",
        "Exemplo 1 de execução do programa:\n",
        "Digite o valor do tempo em segundos: 3850\n",
        "Valor convertido: 1 h 4 min 10 s\n",
        "Exemplo 2 de execução do programa:\n",
        "Digite o valor do tempo em segundos: 60\n",
        "Valor convertido: 0 h 1 min 0 s"
      ],
      "metadata": {
        "id": "vUW80iad_c7Z"
      }
    },
    {
      "cell_type": "code",
      "source": [
        "segundos = int(input('Digite o valor do tempo em segundos: '))\n",
        "horas = segundos // 3600\n",
        "segundos_restantes = segundos % 3600\n",
        "minutos = segundos_restantes // 60\n",
        "segundos_finais = segundos_restantes % 60\n",
        "\n",
        "\n",
        "print(f'Valor convertido: {horas}h {minutos}min {segundos_finais}s')"
      ],
      "metadata": {
        "colab": {
          "base_uri": "https://localhost:8080/"
        },
        "id": "9BNuHBYM_b7Y",
        "outputId": "41dc092a-a5f3-430b-f12a-b2ec950eac37"
      },
      "execution_count": 20,
      "outputs": [
        {
          "output_type": "stream",
          "name": "stdout",
          "text": [
            "Digite o valor do tempo em segundos: 60\n",
            "Valor convertido: 0h 1min 0s\n"
          ]
        }
      ]
    },
    {
      "cell_type": "markdown",
      "source": [
        "#Problema 4 [problema4.py]"
      ],
      "metadata": {
        "id": "bpFkg0umDhQC"
      }
    },
    {
      "cell_type": "markdown",
      "source": [
        "Escreva um programa que solicita ao usuário um número inteiro de 4 algarismos e o programa imprime na tela o seu valor invertido.\n",
        "Observação: as mensagens exibidas para o usuário deverão ser exatamente como apresentado abaixo\n",
        "(mensagens exibidas com os comandos input() e print()).\n",
        "Exemplo de execução do programa:\n",
        "Digite um inteiro de 4 algarismos: 1234\n",
        "Valor invertido: 4321"
      ],
      "metadata": {
        "id": "4-inkE_BDhnd"
      }
    },
    {
      "cell_type": "code",
      "source": [
        "numero = int(input('Digite um inteiro de 4 algarismos: '))\n",
        "\n",
        "unidade = numero % 10\n",
        "dezena = (numero % 100) // 10\n",
        "centena = (numero % 1000) // 100\n",
        "milhar = numero // 1000\n",
        "\n",
        "numero_invertido = 1000 * unidade + 100 * dezena + 10 * centena + milhar\n",
        "\n",
        "print(f'Valor invertido: {numero_invertido}')\n"
      ],
      "metadata": {
        "colab": {
          "base_uri": "https://localhost:8080/"
        },
        "id": "M28HxiryDoFX",
        "outputId": "24c439b4-d48a-4430-e7a8-1be0856a353a"
      },
      "execution_count": 43,
      "outputs": [
        {
          "output_type": "stream",
          "name": "stdout",
          "text": [
            "Digite um inteiro de 4 algarismos: 4561\n",
            "Valor invertido: 1654\n"
          ]
        }
      ]
    },
    {
      "cell_type": "markdown",
      "source": [
        "#Problema 5 [problema5.py]"
      ],
      "metadata": {
        "id": "KrZGQu4dQw7h"
      }
    },
    {
      "cell_type": "markdown",
      "source": [
        "\n",
        "Faça um programa que leia os valores de comprimento, largura e altura de uma caixa, e imprime na\n",
        "tela o seu volume. Note que todos esses valores são números de ponto flutuante.\n",
        "Observação: as mensagens exibidas para o usuário deverão ser exatamente como apresentado abaixo\n",
        "(mensagens exibidas com os comandos input() e print()).\n",
        "Exemplo de execução do programa:\n",
        "Digite o comprimento: 3.0\n",
        "Digite a largura: 5.0\n",
        "Digite a altura: 7.0\n",
        "Volume: 105.0"
      ],
      "metadata": {
        "id": "QiqtnkRRQ2mu"
      }
    },
    {
      "cell_type": "code",
      "source": [
        "comprimento = float(input('Digite o comprimento: '))\n",
        "largura = float(input('Digite a largura: '))\n",
        "altura = float(input('Digite a altura: '))\n",
        "\n",
        "volume = altura * largura * comprimento\n",
        "\n",
        "print(f'Volume: {volume}')"
      ],
      "metadata": {
        "colab": {
          "base_uri": "https://localhost:8080/"
        },
        "id": "EPhgKcp8Q6AF",
        "outputId": "7e356ac9-0898-492f-e84f-47f3e1fc69f3"
      },
      "execution_count": 44,
      "outputs": [
        {
          "output_type": "stream",
          "name": "stdout",
          "text": [
            "Digite o comprimento: 3\n",
            "Digite a largura: 5\n",
            "Digite a altura: 7\n",
            "Volume: 105.0\n"
          ]
        }
      ]
    },
    {
      "cell_type": "markdown",
      "source": [
        "#Problema 6 [problema6.py]"
      ],
      "metadata": {
        "id": "_9ooq2uFXlyj"
      }
    },
    {
      "cell_type": "markdown",
      "source": [
        "Escreva um programa que leia dois números inteiros, e imprime na tela o resto da divisão do primeiro\n",
        "pelo segundo.\n",
        "Observação: as mensagens exibidas para o usuário deverão ser exatamente como apresentado abaixo\n",
        "(mensagens exibidas com os comandos input() e print()).\n",
        "Exemplo 1 de execução do programa:\n",
        "Digite o primeiro inteiro: 7\n",
        "Digite o segundo inteiro: 4\n",
        "Resto: 3\n",
        "Exemplo 2 de execução do programa:\n",
        "Digite o primeiro inteiro: 28\n",
        "Digite o segundo inteiro: 7"
      ],
      "metadata": {
        "id": "XFutlkNJXlkI"
      }
    },
    {
      "cell_type": "code",
      "source": [
        "primeiro = int(input('Digite o primeiro inteiro: '))\n",
        "segundo = int(input('Digite o segundo inteiro: '))\n",
        "\n",
        "print(f'Resto: {primeiro % segundo}')"
      ],
      "metadata": {
        "colab": {
          "base_uri": "https://localhost:8080/"
        },
        "id": "cbc6NqgEXmY2",
        "outputId": "a3f847ab-adc2-4fdc-eb28-4eb79e5afe34"
      },
      "execution_count": 45,
      "outputs": [
        {
          "output_type": "stream",
          "name": "stdout",
          "text": [
            "Digite o primeiro inteiro: 7\n",
            "Digite o segundo inteiro: 4\n",
            "Resto: 3\n"
          ]
        }
      ]
    },
    {
      "cell_type": "markdown",
      "source": [
        "#Problema 7 [problema7.py]"
      ],
      "metadata": {
        "id": "Rxz9GCCmYYgw"
      }
    },
    {
      "cell_type": "markdown",
      "source": [
        "Escreva um programa que leia uma velocidade em km/h (quilômetros por hora) e apresente-a convertida para m/s (metros por segundo). Note que:\n",
        "velocidade em m/s =\n",
        "velocidade em km/h\n",
        "3.6\n",
        "Observação: as mensagens exibidas para o usuário deverão ser exatamente como apresentado abaixo\n",
        "(mensagens exibidas com os comandos input() e print()).\n",
        "Exemplo de execução do programa:\n",
        "Digite a velocidade em km/h: 45.0\n",
        "Velocidade em m/s: 12.5"
      ],
      "metadata": {
        "id": "O3ikARVQYYQm"
      }
    },
    {
      "cell_type": "code",
      "source": [
        "velocidade = float(input('Digite a velocidade em km/h: '))\n",
        "m_s = velocidade / 3.6\n",
        "\n",
        "print(f'Velocidade em m/s: {m_s}')"
      ],
      "metadata": {
        "colab": {
          "base_uri": "https://localhost:8080/"
        },
        "id": "WyLTkFL4Ygjn",
        "outputId": "f0527e10-4a72-4fab-9d92-7b45cab1bb7f"
      },
      "execution_count": 46,
      "outputs": [
        {
          "output_type": "stream",
          "name": "stdout",
          "text": [
            "Digite a velocidade em km/h: 45\n",
            "Velocidade em m/s: 12.5\n"
          ]
        }
      ]
    },
    {
      "cell_type": "markdown",
      "source": [
        "#Problema 8 [problema8.py]"
      ],
      "metadata": {
        "id": "peSI2fvcZICo"
      }
    },
    {
      "cell_type": "markdown",
      "source": [
        "\n",
        "Faça um programa que leia uma distância em milhas e apresente-a em quilômetros. Considere que:\n",
        "distância em km = (distância em milhas)×1.61\n",
        "Observação: as mensagens exibidas para o usuário deverão ser exatamente como apresentado abaixo\n",
        "(mensagens exibidas com os comandos input() e print()).\n",
        "Exemplo de execução do programa:\n",
        "Digite a distância em milhas: 2.0\n",
        "Distância em km: 3.22"
      ],
      "metadata": {
        "id": "_kMwf68sZIg4"
      }
    },
    {
      "cell_type": "code",
      "source": [
        "milhas = float(input('Digite a distância em milhas: '))\n",
        "\n",
        "print(f'Distância em km: {milhas * 1.61:.2f}')"
      ],
      "metadata": {
        "colab": {
          "base_uri": "https://localhost:8080/"
        },
        "id": "dMrIXm7EZI4b",
        "outputId": "1069e54f-fa82-4615-8367-96662674fa69"
      },
      "execution_count": 60,
      "outputs": [
        {
          "output_type": "stream",
          "name": "stdout",
          "text": [
            "Digite a distância em milhas: 2\n",
            "Distância em km: 3.22\n"
          ]
        }
      ]
    },
    {
      "cell_type": "markdown",
      "source": [
        "#Problema 9 [problema9.py]\n",
        "Elabore um programa que leia um valor em reais e um valor representando a atual cotação do dólar.\n",
        "Em seguida, imprima o valor em dólares.\n",
        "Observação: as mensagens exibidas para o usuário deverão ser exatamente como apresentado abaixo\n",
        "(mensagens exibidas com os comandos input() e print()).\n",
        "Exemplo de execução do programa:\n",
        "Digite o valor em reais: 100.0\n",
        "Digite a cotação do dólar: 5.0\n",
        "Valor em dólar: 20.00"
      ],
      "metadata": {
        "id": "ujUiFZcBceUd"
      }
    },
    {
      "cell_type": "code",
      "source": [
        "reais = float(input('Digite o valor em reais: '))\n",
        "cotacao_dolar = float(input('Digite a cotação do dólar: '))\n",
        "\n",
        "print(f'Valor em dólar: {reais / cotacao_dolar:.2f}')\n"
      ],
      "metadata": {
        "colab": {
          "base_uri": "https://localhost:8080/"
        },
        "id": "sV4M9Cz8cetz",
        "outputId": "37759e64-7588-44e4-ad74-a15a6fcd514c"
      },
      "execution_count": 62,
      "outputs": [
        {
          "output_type": "stream",
          "name": "stdout",
          "text": [
            "Digite o valor em reais: 100\n",
            "Digite a cotação do dólar: 5\n",
            "Valor em dólar: 20.00\n"
          ]
        }
      ]
    },
    {
      "cell_type": "markdown",
      "source": [
        "#Problema 10 [problema10.py]\n",
        "Faça um programa que leia três valores inteiros (a, b e c) e imprime a soma dos quadrados desses\n",
        "valores.\n",
        "Observação: as mensagens exibidas para o usuário deverão ser exatamente como apresentado abaixo\n",
        "(mensagens exibidas com os comandos input() e print()).\n",
        "Exemplo de execução do programa:\n",
        "Digite o valor de a: 1\n",
        "Digite o valor de b: 2\n",
        "Digite o valor de c: 3\n",
        "Resultado: 14"
      ],
      "metadata": {
        "id": "dPHn7ANLjjAe"
      }
    },
    {
      "cell_type": "code",
      "source": [
        "a = int(input('Digite o valor de a: '))\n",
        "b = int(input('Digite o valor de b: '))\n",
        "c = int(input('Digite o valor de c: '))\n",
        "\n",
        "resultado = (a**2) + (b**2) + (c**2)\n",
        "\n",
        "print(f'Resultado: {resultado}')"
      ],
      "metadata": {
        "colab": {
          "base_uri": "https://localhost:8080/"
        },
        "id": "2FEeHJNNjjls",
        "outputId": "ed28cfb7-8ad4-46c2-b45c-f0c50e7c3c7b"
      },
      "execution_count": 63,
      "outputs": [
        {
          "output_type": "stream",
          "name": "stdout",
          "text": [
            "Digite o valor de a: 1\n",
            "Digite o valor de b: 2\n",
            "Digite o valor de c: 3\n",
            "Resultado: 14\n"
          ]
        }
      ]
    }
  ]
}