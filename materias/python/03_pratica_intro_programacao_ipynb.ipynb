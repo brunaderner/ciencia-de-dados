{
  "nbformat": 4,
  "nbformat_minor": 0,
  "metadata": {
    "colab": {
      "provenance": []
    },
    "kernelspec": {
      "name": "python3",
      "display_name": "Python 3"
    },
    "language_info": {
      "name": "python"
    }
  },
  "cells": [
    {
      "cell_type": "markdown",
      "source": [
        "#Instruções para Submissão\n",
        "Na aula prática de hoje, você terá que elaborar programas para resolver problemas diversos, conforme\n",
        "descrito abaixo. Cada uma das soluções deverá ser implementada em seu próprio arquivo com extensão .py. Por exemplo, a solução para o problema 1 deverá ser implementada em um arquivo chamado\n",
        "problema1.py, a solução para o problema 2 deverá ser implementada no arquivo problema2.py e\n",
        "assim por diante. Finalmente, submeta cada um dos arquivos pelo Moodle.\n",
        "Dica: se você tiver problemas com caracteres especiais (caracteres com acentos, por exemplo), adicione a linha abaixo na primeira linha de todos os arquivos *.py\n",
        "# -*- coding: utf-8 -*-"
      ],
      "metadata": {
        "id": "AArILpXTQMhg"
      }
    },
    {
      "cell_type": "markdown",
      "source": [
        "#Problema 1\n",
        "O Supermercado Epa resolveu dar um aumento de salário aos seus colaboradores e lhe contratou para\n",
        "desenvolver a solução que calculará os reajustes. Para isso, escreva uma função chamada pagamento\n",
        "que recebe como parâmetro o salário atual do colaborador e retorna o salário reajustado de acordo\n",
        "com as regras abaixo.\n",
        "Salário atual Porcentagem de aumento\n",
        "Salários até R$ 280,00 Aumento de 20%\n",
        "Maior que R$ 280,00 até R$ 700,00 Aumento de 15%\n",
        "Maior que R$ 700,00 até R$ 1500,00 Aumento de 10%\n",
        "Maior que R$ 1500,00 Aumento de 5%\n",
        "Observação 1: O nome da função deve ser exatamente como especificado acima e seu arquivo deve\n",
        "obrigatoriamente se chamar problema1.py.\n",
        "Observação 2: Seu programa deve conter apenas a função descrita acima. Você não precisa realizar a\n",
        "entrada e saída de dados (não precisa usar as funções input() e print()).\n",
        "Exemplo de execução do programa:\n",
        "Digite o valor do salário: 280.00\n",
        "Valor do aumento: 56.00\n",
        "Novo salário: 336.00\n",
        "Exemplo de execução do programa:\n",
        "Digite o valor do salário: 785.00\n",
        "Valor do aumento: 78.50\n",
        "Novo salário: 863.50"
      ],
      "metadata": {
        "id": "Ojk84zLdQPMa"
      }
    },
    {
      "cell_type": "code",
      "execution_count": null,
      "metadata": {
        "id": "E3IzmBX-Pgnl",
        "colab": {
          "base_uri": "https://localhost:8080/"
        },
        "outputId": "ef376884-aac7-4263-e003-c97202b1ac70"
      },
      "outputs": [
        {
          "name": "stdout",
          "output_type": "stream",
          "text": [
            "Digite o valor do salário: 200\n"
          ]
        }
      ],
      "source": [
        "salario = int(input('Digite o valor do salário: '))\n",
        "\n",
        "def pagamento(salario):\n",
        "  if salario <= 280 :\n",
        "    aumento = (salario * 1.2) - salario\n",
        "    novo_salario = salario * 1.2\n",
        "\n",
        "  elif  280 < salario <= 700 :\n",
        "    aumento = (salario * 1.15) - salario\n",
        "    novo_salario = salario * 1.15\n",
        "\n",
        "  elif 700 < salario <= 1500 :\n",
        "    aumento = (salario * 1.1) - salario\n",
        "    novo_salario = salario * 1.1\n",
        "\n",
        "  else :\n",
        "    aumento = (salario * 1.05) - salario\n",
        "    novo_salario = salario * 1.05\n",
        "\n",
        "  return novo_salario\n"
      ]
    },
    {
      "cell_type": "code",
      "source": [
        "salario  = float(input('Digite o valor do salário: '))\n",
        "\n",
        "def pagamento(salario):\n",
        "  if salario <= 280:\n",
        "    taxa = 1.2\n",
        "  elif 280 < salario <= 700 :\n",
        "    taxa = 1.15\n",
        "  elif 700 < salario <= 1500 :\n",
        "    taxa = 1.1\n",
        "  else:\n",
        "    taxa = 1.05\n",
        "\n",
        "  novo_salario = salario * taxa\n",
        "\n",
        "  return novo_salario\n",
        "\n",
        "\n",
        "novo = pagamento(salario)\n",
        "\n",
        "print(f'Valor do aumento: {novo - salario}')\n",
        "print(f'Novo salário: {novo}')\n",
        "\n"
      ],
      "metadata": {
        "colab": {
          "base_uri": "https://localhost:8080/"
        },
        "id": "EXEeSlJOf7nn",
        "outputId": "846ac20b-fffc-41a9-efd8-56e5a9902318"
      },
      "execution_count": null,
      "outputs": [
        {
          "output_type": "stream",
          "name": "stdout",
          "text": [
            "Digite o valor do salário: 500\n",
            "Valor do aumento: 75.0\n",
            "Novo salário: 575.0\n"
          ]
        }
      ]
    },
    {
      "cell_type": "markdown",
      "source": [
        "#Problema 2\n",
        "Você foi contratado para realizar o cálculo da folha de pagamento de uma empresa. Para isso, escreva\n",
        "uma função chamada pagamento que recebe como parâmetros o valor da hora trabalhada e a quantidade de horas trabalhadas e retorna o salário após os descontos do Imposto de Renda (IR), conforme\n",
        "as regras abaixo.\n",
        "Salário bruto Porcentagem de desconto do IR\n",
        "Salários até até R$ 900,00 Isento de desconto do IR\n",
        "Maior que R$ 900,00 até R$ 1500,00 Desconto de 5%\n",
        "Maior que R$ 1500,00 até R$ 2500,00 Desconto de 10%\n",
        "Maior que R$ 2500,00 Desconto de 20%\n",
        "Observação 1: O nome da função deve ser exatamente como especificado acima e seu arquivo deve\n",
        "obrigatoriamente se chamar problema2.py.\n",
        "Observação 2: Seu programa deve conter apenas a função descrita acima. Você não precisa realizar a\n",
        "entrada e saída de dados (não precisa usar as funções input() e print()).\n",
        "Exemplo de execução do programa:\n",
        "Digite o valor da hora trabalhada: 40.0\n",
        "Digite a quantidade de horas trabalhadas: 7\n",
        "Salário bruto: 280.00\n",
        "Desconto: 0.00\n",
        "Salário líquido: 280.00\n",
        "Exemplo de execução do programa:\n",
        "Digite o valor da hora trabalhada: 35.0\n",
        "Digite a quantidade de horas trabalhadas: 40\n",
        "Salário bruto: 1400.00\n",
        "Desconto: 70.00\n",
        "Salário líquido: 1330.00"
      ],
      "metadata": {
        "id": "8VEw06ZYwSrP"
      }
    },
    {
      "cell_type": "code",
      "source": [
        "valor = float(input('Digite o valor da hora trabalhada: '))\n",
        "hora = int(input('Digite a quantidade de horas trabalhadas: '))\n",
        "\n",
        "def pagamento(valor, hora):\n",
        "  salario_bruto = valor * hora\n",
        "\n",
        "  if salario_bruto <= 900:\n",
        "    ir = 1\n",
        "  elif 900 < salario_bruto <= 1500:\n",
        "    ir = 1.05\n",
        "  elif 1500 < salario_bruto <= 2500:\n",
        "    ir = 1.1\n",
        "  else:\n",
        "    ir = 1.2\n",
        "\n",
        "  desconto = (salario_bruto * ir) - salario_bruto\n",
        "  salario_liquido = salario_bruto - desconto\n",
        "  return salario_liquido\n",
        "\n",
        "\n",
        "salario_liquido = pagamento(valor, hora)\n",
        "desconto = (valor * hora) - salario_liquido\n",
        "\n",
        "print(f'Salário bruto: {valor * hora}')\n",
        "print(f'Desconto: {(desconto)}')\n",
        "print(f'Salário líquido: {salario_liquido}')"
      ],
      "metadata": {
        "colab": {
          "base_uri": "https://localhost:8080/"
        },
        "id": "E3_3xmCVwast",
        "outputId": "24c83b05-c473-42be-d817-4a69f7173743"
      },
      "execution_count": null,
      "outputs": [
        {
          "output_type": "stream",
          "name": "stdout",
          "text": [
            "Digite o valor da hora trabalhada: 950\n",
            "Digite a quantidade de horas trabalhadas: 10\n",
            "Salário bruto: 9500.0\n",
            "Desconto: 1900.0\n",
            "Salário líquido: 7600.0\n"
          ]
        }
      ]
    },
    {
      "cell_type": "markdown",
      "source": [
        "#Problema 3\n",
        "Faça um programa para determinar o tipo de um triângulo. Para isso, crie duas funções:\n",
        "1. Uma chamada verifica_triangulo, que recebe como parâmetros três lados de um triângulo\n",
        "e retorna True se os lados formarem um triângulo, ou False caso negativo\n",
        "2. Outra chamada tipo_triangulo, que recebe como parâmetros três lados de um triângulo e\n",
        "retorna uma das três strings a seguir: Equilátero, Isósceles ou Escaleno. Ou seja, a função\n",
        "retorna o tipo do triângulo formado pelos três lados informados\n",
        "Algumas dicas:\n",
        "• Para verificar se é um triângulo, confira se os lados obedecem a desigualdade triangular: z <\n",
        "x + y e y < x + z e x < y + z.\n",
        "Tipo do triângulo Lados\n",
        "Triângulo Equilátero 3 lados iguais\n",
        "Triângulo Isósceles 2 lados iguais\n",
        "Triângulo Escaleno 3 lados diferentes\n",
        "Observação 1: O nome das funções devem ser exatamente como especificado acima e seu arquivo\n",
        "deve obrigatoriamente se chamar problema3.py.\n",
        "Observação 2: Seu programa deve conter apenas as funções descritas acima. Você não precisa realizar\n",
        "a entrada e saída de dados (não precisa usar as funções input() e print()).\n",
        "Exemplo de execução do programa:\n",
        "Digite o valor do primeiro lado: 15\n",
        "Digite o valor do segundo lado: 20\n",
        "Digite o valor do terceiro lado: 1\n",
        "Não forma triângulo\n",
        "Exemplo de execução do programa:\n",
        "Digite o valor do primeiro lado: 2\n",
        "Digite o valor do segundo lado: 2\n",
        "Digite o valor do terceiro lado: 2\n",
        "Equilátero"
      ],
      "metadata": {
        "id": "YL2kSJS2PSt3"
      }
    },
    {
      "cell_type": "code",
      "source": [
        "\n",
        "def verifica_triangulo(lado_1, lado_2, lado_3):\n",
        "  if lado_1 < lado_2 + lado_3 and lado_2 < lado_1 + lado_3 and lado_3 < lado_1 + lado_2 :\n",
        "    return True\n",
        "  else :\n",
        "    return False\n",
        "\n",
        "def tipo_triangulo(lado_1, lado_2, lado_3):\n",
        "  if lado_1 == lado_2 == lado_3:\n",
        "    return('Equilátero')\n",
        "\n",
        "  elif lado_1 == lado_2 or lado_1 == lado_3 or lado_2 == lado_3:\n",
        "    return('Isósceles')\n",
        "\n",
        "  elif lado_1 != lado_2 != lado_3:\n",
        "    return('Escaleno')\n",
        "\n",
        "  else:\n",
        "    return('Não forma triângulo')\n",
        "\n",
        "print(tipo_triangulo(2,2,2))\n",
        "\n"
      ],
      "metadata": {
        "colab": {
          "base_uri": "https://localhost:8080/"
        },
        "id": "YIOkNMRhPZR8",
        "outputId": "1e8b4ae8-d933-4bde-e088-487d85a9f7c8"
      },
      "execution_count": null,
      "outputs": [
        {
          "output_type": "stream",
          "name": "stdout",
          "text": [
            "Equilátero\n"
          ]
        }
      ]
    },
    {
      "cell_type": "markdown",
      "source": [
        "#Problema 4\n",
        "Um posto está vendendo combustíveis de acordo com os descontos a seguir:\n",
        "• Álcool (\"a\")\n",
        "– até 20 litros, desconto de 3% por litro\n",
        "– acima de 20 litros, desconto de 5% por litro\n",
        "• Gasolina (\"g\")\n",
        "– até 20 litros, desconto de 4% por litro\n",
        "– acima de 20 litros, desconto de 6% por litro\n",
        "Escreva uma função chamada calcula_valor que recebe como parâmetros o preço do litro de combustível, a quantidade de litros abastecidos e o tipo de combustível utilizado (\"a\"ou \"g\") e retorna o\n",
        "valor a ser pago de acordo com as regras acima.\n",
        "Observação 1: O nome da função deve ser exatamente como especificado acima e seu arquivo deve\n",
        "obrigatoriamente se chamar problema4.py.\n",
        "Observação 2: Seu programa deve conter apenas a função descrita acima. Você não precisa realizar a\n",
        "entrada e saída de dados (não precisa usar as funções input() e print()).\n",
        "Exemplo 1 de execução do programa:\n",
        "Digite a quantidade de litros: 20\n",
        "Digite tipo de combustível: a\n",
        "Digite o preço do litro de combustível: 3.7\n",
        "Total: 71.78\n",
        "Exemplo 2 de execução do programa:\n",
        "Digite a quantidade de litros: 20\n",
        "Digite tipo de combustível: g\n",
        "Digite o preço do litro de combustível: 3.7\n",
        "Total: 71.04"
      ],
      "metadata": {
        "id": "0v3NIam0T6od"
      }
    },
    {
      "cell_type": "code",
      "source": [
        "def calcula_valor(preco, quantidade, tipo):\n",
        "  if tipo == 'a':\n",
        "    if quantidade <= 20:\n",
        "      desc = 1.03\n",
        "    elif quantidade > 20:\n",
        "      desc = 1.05\n",
        "\n",
        "  elif tipo == 'g':\n",
        "    if quantidade <= 20:\n",
        "      desc = 1.04\n",
        "    elif quantidade > 20:\n",
        "      desc = 1.06\n",
        "\n",
        "  desconto = (preco * quantidade * desc) - (preco * quantidade)\n",
        "  total = (preco * quantidade) - desconto\n",
        "  return total\n",
        "\n",
        "comb = calcula_valor(3.7, 20, 'a')\n",
        "print(comb)"
      ],
      "metadata": {
        "colab": {
          "base_uri": "https://localhost:8080/"
        },
        "id": "qqWZ398HUX5F",
        "outputId": "92e929ad-7ff8-4aaa-8641-b17ead0c8647"
      },
      "execution_count": null,
      "outputs": [
        {
          "output_type": "stream",
          "name": "stdout",
          "text": [
            "71.78\n"
          ]
        }
      ]
    },
    {
      "cell_type": "markdown",
      "source": [
        "#Problema 5\n",
        "Crie uma função chamada peso_ideal que receba como parâmetros a altura em metros e o sexo de\n",
        "uma pessoa e retorna o seu peso ideal em kg, utilizando as seguintes fórmulas:\n",
        "• Sexo feminino: (62.1 ·h)−44.7\n",
        "• Sexo masculino: (72.7 ·h)−58\n",
        "onde h é a altura em metros.\n",
        "O sexo será informado com um caractere; \"F\" para feminino e \"M\" para masculino.\n",
        "4\n",
        "Observação 1: O nome da função deve ser exatamente como especificado acima e seu arquivo deve\n",
        "obrigatoriamente se chamar problema5.py.\n",
        "Observação 2: Seu programa deve conter apenas a função descrita acima. Você não precisa realizar a\n",
        "entrada e saída de dados (não precisa usar as funções input() e print()).\n",
        "Exemplo de execução do programa:\n",
        "Digite a altura: 2.03\n",
        "Digite o sexo (F/M): F\n",
        "Peso ideal: 81.36"
      ],
      "metadata": {
        "id": "wre4MFvdwie3"
      }
    },
    {
      "cell_type": "code",
      "source": [
        "def peso_ideal(h, sexo):\n",
        "  if sexo == 'F':\n",
        "    peso = float((62.1 * h) - 44.7)\n",
        "  elif sexo == 'M':\n",
        "    peso = float((72.7 * h) - 58)\n",
        "\n",
        "  return peso\n",
        "\n",
        "peso_ideal = peso_ideal(1.8, 'M')\n",
        "print(f'Peso ideal: {peso_ideal:.2f}')\n"
      ],
      "metadata": {
        "colab": {
          "base_uri": "https://localhost:8080/"
        },
        "id": "ab3ts_BSwtUV",
        "outputId": "dc6b5f6a-4530-49b4-c58f-ed5e27b57165"
      },
      "execution_count": null,
      "outputs": [
        {
          "output_type": "stream",
          "name": "stdout",
          "text": [
            "Peso ideal: 72.86\n"
          ]
        }
      ]
    },
    {
      "cell_type": "markdown",
      "source": [
        "#Problema 6\n",
        "Elabore uma função chamada media que receba como parâmetros três notas de um aluno, e uma\n",
        "letra. Se a letra for \"A\", a função deverá retornar a média aritmética das notas do aluno; se for \"P\",\n",
        "deverá retornar a média ponderada, com pesos 5, 3 e 2 para cada nota, respectivamente.\n",
        "Observação 1: O nome da função deve ser exatamente como especificado acima e seu arquivo deve\n",
        "obrigatoriamente se chamar problema6.py.\n",
        "Observação 2: Seu programa deve conter apenas a função descrita acima. Você não precisa realizar a\n",
        "entrada e saída de dados (não precisa usar as funções input() e print()).\n",
        "Exemplo 1 de execução do programa:\n",
        "Digite a primeira nota: 1.0\n",
        "Digite a segunda nota: 2.0\n",
        "Digite a terceira nota: 3.0\n",
        "Digite o tipo da média: A\n",
        "Média: 2.00\n",
        "Exemplo 2 de execução do programa:\n",
        "Digite a primeira nota: 1.0\n",
        "Digite a segunda nota: 2.0\n",
        "Digite a terceira nota: 3.0\n",
        "Digite o tipo da média: P\n",
        "Média: 1.70"
      ],
      "metadata": {
        "id": "-DP1Bv5E6khe"
      }
    },
    {
      "cell_type": "code",
      "source": [
        "def media(nota1, nota2, nota3, letra):\n",
        "  if letra == 'A':\n",
        "    nota = ((nota1 + nota2 + nota3)/3)\n",
        "  elif letra == 'P':\n",
        "    nota = (((nota1 * 0.5) + (nota2 * 0.3) + (nota3 * 0.2))/(0.5 + 0.3 + 0.2))\n",
        "\n",
        "  return nota\n",
        "\n",
        "notas = media(1, 2, 3, 'P')\n",
        "print(f'Média: {notas:.2f}')"
      ],
      "metadata": {
        "colab": {
          "base_uri": "https://localhost:8080/"
        },
        "id": "T19HATO66mBd",
        "outputId": "f97e5c7e-a837-4e55-ec6a-9a33b3798d4d"
      },
      "execution_count": null,
      "outputs": [
        {
          "output_type": "stream",
          "name": "stdout",
          "text": [
            "Média: 1.70\n"
          ]
        }
      ]
    },
    {
      "cell_type": "markdown",
      "source": [
        "#Problema 7\n",
        "Faça uma função chamada operacao que receba como parâmetros dois valores numéricos e um símbolo. Este símbolo representará uma operação que deve ser efetuada com os números. Se o símbolo\n",
        "for \"+\", a função deve retornar a adição; se for \"-\", a subtração; se for \"*\", a multiplicação’; e se for \"/\", a divisão.\n",
        "Observação 1: O nome da função deve ser exatamente como especificado acima e seu arquivo deve\n",
        "obrigatoriamente se chamar problema7.py.\n",
        "Observação 2: Seu programa deve conter apenas a função descrita acima. Você não precisa realizar a\n",
        "entrada e saída de dados (não precisa usar as funções input() e print()).\n",
        "Exemplo 1 de execução do programa:\n",
        "Digite o primeiro valor: 1.0\n",
        "Digite o segundo valor: 2.0\n",
        "Digite a operação: +\n",
        "Resultado: 3.0\n",
        "Exemplo 2 de execução do programa:\n",
        "Digite o primeiro valor: 1.0\n",
        "Digite o segundo valor: 2.0\n",
        "Digite a operação: -\n",
        "Resultado: -1.00\n",
        "Exemplo 3 de execução do programa:\n",
        "Digite o primeiro valor: 2.0\n",
        "Digite o segundo valor: 2.0\n",
        "Digite a operação: *\n",
        "Resultado: 4.00\n",
        "Exemplo 4 de execução do programa:\n",
        "Digite o primeiro valor: 10.0\n",
        "Digite o segundo valor: 2.0\n",
        "Digite a operação: /\n",
        "Resultado: 5.00"
      ],
      "metadata": {
        "id": "kReKoAXE9EfP"
      }
    },
    {
      "cell_type": "code",
      "source": [
        "def operacao(num1, num2, simbolo):\n",
        "  if simbolo == '+':\n",
        "    resultado = num1 + num2\n",
        "  elif simbolo == '-':\n",
        "    resultado = num1 - num2\n",
        "  elif simbolo == '*':\n",
        "    resultado = num1 * num2\n",
        "  elif simbolo == '/':\n",
        "    resultado = num1 / num2\n",
        "\n",
        "  return resultado\n",
        "\n",
        "resultado = operacao(1, 2, '+')\n",
        "print(f'Resultado: {resultado}')\n"
      ],
      "metadata": {
        "colab": {
          "base_uri": "https://localhost:8080/"
        },
        "id": "67vVuE0v9NR-",
        "outputId": "a0a2a077-0083-4450-b401-a6fa482a0e28"
      },
      "execution_count": null,
      "outputs": [
        {
          "output_type": "stream",
          "name": "stdout",
          "text": [
            "Resultado: 3\n"
          ]
        }
      ]
    },
    {
      "cell_type": "markdown",
      "source": [
        "#Problema 8\n",
        "Chuck Norris decidiu abrir o estacionamento econômico Norrisquin de Roubar na cidade de Belo\n",
        "Horizonte. No entanto, ele precisa de um sistema para realizar o cálculo do valor a ser pago pelos\n",
        "motoristas. Portanto, escreva uma função chamada estacionamento que recebe como parâmetros\n",
        "a hora e minuto de entrada, e a hora e minuto de saída de um estacionamento, e então retorna o valor\n",
        "total devido. O valor para cada hora é R$ 1,00. O estacionamento funciona entre 08:00 e 18:00 e não\n",
        "aceita pernoite de veículos.\n",
        "O número de horas a pagar é sempre inteiro e arredondado por excesso. Por exemplo, quem estacionar por 1 minuto pagará por 1 hora. Quem estacionar durante 61 minutos pagará por 2 horas.\n",
        "E quem estacionar por 0 minuto não pagará nada. Perceba que os momentos de entrada e saída do estacionamento são apresentados na forma de pares de inteiros, representando horas e minutos. Por\n",
        "exemplo, o par (12, 50) representará \"dez para a uma da tarde\".\n",
        "Observação 1: O nome da função deve ser exatamente como especificado acima e seu arquivo deve\n",
        "obrigatoriamente se chamar problema8.py.\n",
        "Observação 2: Seu programa deve conter apenas a função descrita acima. Você não precisa realizar a\n",
        "entrada e saída de dados (não precisa usar as funções input() e print()).\n",
        "Exemplo 1 de execução do programa:\n",
        "Digite a hora de entrada: 08\n",
        "Digite o minuto de entrada: 00\n",
        "Digite a hora de saída: 08\n",
        "Digite o minuto de saída: 01\n",
        "Preço: R$ 1.00\n",
        "Exemplo 2 de execução do programa:\n",
        "Digite a hora de entrada: 12\n",
        "Digite o minuto de entrada: 30\n",
        "Digite a hora de saída: 15\n",
        "Digite o minuto de saída: 31\n",
        "Preço: R$ 4.00"
      ],
      "metadata": {
        "id": "4HphDG2zD-lr"
      }
    },
    {
      "cell_type": "code",
      "source": [
        "def estacionamento(hora_entrada, minuto_entrada, hora_saida, minuto_saida):\n",
        "  #cada hora é R$1,00\n",
        "  tempo_uso_h = hora_saida - hora_entrada\n",
        "  tempo_uso_m = minuto_saida - minuto_entrada\n",
        "\n",
        "  if tempo_uso_h > 0:\n",
        "    if tempo_uso_m > 0:\n",
        "      taxa = tempo_uso_h + 1\n",
        "    elif tempo_uso_m <= 0:\n",
        "      taxa = tempo_uso_h\n",
        "\n",
        "  elif tempo_uso_h <= 0:\n",
        "    if tempo_uso_m > 0:\n",
        "      taxa = 1\n",
        "    elif tempo_uso_m <= 0:\n",
        "      taxa = 0\n",
        "\n",
        "  return taxa\n",
        "\n",
        "\n",
        "estacionamento = estacionamento(12, 30, 15, 31)\n",
        "print(estacionamento)\n"
      ],
      "metadata": {
        "id": "ptvV_THTEJXm",
        "colab": {
          "base_uri": "https://localhost:8080/"
        },
        "outputId": "34e0234d-05ec-40eb-8879-1da179ebed2e"
      },
      "execution_count": 11,
      "outputs": [
        {
          "output_type": "stream",
          "name": "stdout",
          "text": [
            "4\n"
          ]
        }
      ]
    },
    {
      "cell_type": "markdown",
      "source": [
        "#Problema 9\n",
        "Uma Progressão Aritmética (PA) é uma sequência de números onde a diferença entre dois termos consecutivos é sempre a mesma, e essa diferença é chamada de razão (r ). Já uma Progressão Geométrica\n",
        "(PG) corresponde a uma sequência numérica cujo quociente (q) ou razão entre um número e outro\n",
        "(exceto o primeiro) é sempre igual.\n",
        "Escreva uma função chamada progressoes que recebe como parâmetros o termo inicial (a1), a razão\n",
        "e a quantidade de termos (n). Em seguida, a função deve calcular o enésimo termo (an) da Progressão\n",
        "Aritmética (PA) e da Progressão Geométrica (PG). As fórmulas para o cálculo do enésimo termo da PA\n",
        "e da PG são, respectivamente:\n",
        "an = a1 +(n −1)×r (0.1)\n",
        "an = a1 × q\n",
        "(n−1) (0.2)\n",
        "Finalmente, se o enésimo termo da PA for maior que o da PG, a função deve retornar a soma (Sn) dos\n",
        "n primeiros termos da PA. Caso contrário, a função deve retornar a soma (Sn) dos n primeiros termos\n",
        "da PG. As fórmulas da soma dos n primeiros termos de uma PA e de uma PG são, respectivamente:\n",
        "Sn = n ×\n",
        "(a1 + an)\n",
        "2\n",
        "Sn = a1 ×\n",
        "(q\n",
        "n −1)\n",
        "q −1\n",
        "(0.4)\n",
        "Observação 1: O nome da função deve ser exatamente como especificado acima e seu arquivo deve\n",
        "obrigatoriamente se chamar problema9.py.\n",
        "Observação 2: Seu programa deve conter apenas a função descrita acima. Você não precisa realizar a\n",
        "entrada e saída de dados (não precisa usar as funções input() e print()).\n",
        "Exemplo 1 de execução do programa:\n",
        "Digite o termo inicial: 0\n",
        "Digite a razão: 2\n",
        "Digite a quantidade de termos: 10\n",
        "Resultado: 90\n",
        "Exemplo 2 de execução do programa:\n",
        "Digite o termo inicial: 1\n",
        "Digite a razão: 1\n",
        "Digite a quantidade de termos: 100\n",
        "Resultado: 5050\n",
        "Exemplo 3 de execução do programa:\n",
        "Digite o termo inicial: 3\n",
        "Digite a razão: 3\n",
        "Digite a quantidade de termos: 3\n",
        "Resultado: 39"
      ],
      "metadata": {
        "id": "f6HL8CcolCgw"
      }
    },
    {
      "cell_type": "code",
      "source": [
        "def progressoes(a1, r, n):\n",
        "  pa = a1 + ((n - 1) * r)\n",
        "  pg = a1 * (r **(n - 1))\n",
        "\n",
        "  if pa > pg:\n",
        "    Sn = int(n * ((a1 + pa) / 2))\n",
        "  elif pa < pg:\n",
        "    Sn = int(a1 * (((r ** n) - 1) / (r - 1)))\n",
        "\n",
        "  return Sn\n",
        "\n",
        "progressoes = progressoes(3, 3, 3)\n",
        "print(progressoes)"
      ],
      "metadata": {
        "colab": {
          "base_uri": "https://localhost:8080/"
        },
        "id": "SJIbYIiElGzh",
        "outputId": "43ce65df-e80a-4cd6-d72b-7202478da5cc"
      },
      "execution_count": 23,
      "outputs": [
        {
          "output_type": "stream",
          "name": "stdout",
          "text": [
            "39\n"
          ]
        }
      ]
    },
    {
      "cell_type": "markdown",
      "source": [
        "#Problema 10\n",
        "Escreva uma função chamada estacionamento que recebe como parâmetros a hora e minuto de\n",
        "entrada, e hora e minuto de saída de um estacionamento e retorna o valor total devido de acordo\n",
        "com as seguintes regras:\n",
        "Quantidade de Horas Tarifa\n",
        "Até duas horas R$ 1.00 para cada hora\n",
        "Entre três e quatro horas R$ 1.40 para cada hora\n",
        "Acima de quatro horas R$ 2.00 para cada hora\n",
        "O número de horas a pagar é sempre inteiro e arredondado por excesso. Por exemplo, quem estacionar por 1 minuto pagará por 1 hora. Quem estacionar durante 61 minutos pagará por 2 horas.\n",
        "Perceba que os momentos de entrada e saída do estacionamento são apresentados na forma de pares\n",
        "de inteiros, representando horas e minutos. Por exemplo, o par (12, 50) representará \"dez para a uma\n",
        "da tarde\". Admite-se que a entrada e a saída se dão com intervalo não superior a 24 horas. Se o horário\n",
        "de entrada for igual ao horário de saída, então o tempo de permanência é de 24 horas.\n",
        "Observação 1: O nome da função deve ser exatamente como especificado acima e seu arquivo deve\n",
        "obrigatoriamente se chamar problema10.py.\n",
        "Observação 2: Seu programa deve conter apenas a função descrita acima. Você não precisa realizar a\n",
        "entrada e saída de dados (não precisa usar as funções input() e print()).\n",
        "Exemplo 1 de execução do programa:\n",
        "Digite a hora de chegada: 18\n",
        "Digite o minuto de chegada: 50\n",
        "Digite a hora da partida: 22\n",
        "Digite o minuto da partida: 49\n",
        "Preço: R$ 5.60\n",
        "Exemplo 2 de execução do programa:\n",
        "Digite a hora de chegada: 20\n",
        "Digite o minuto de chegada: 30\n",
        "Digite a hora da partida: 8\n",
        "Digite o minuto da partida: 00\n",
        "Preço: R$ 24.00"
      ],
      "metadata": {
        "id": "r4FAMhamyCLd"
      }
    },
    {
      "cell_type": "code",
      "source": [],
      "metadata": {
        "id": "vv5QGK0-CrLD"
      },
      "execution_count": 47,
      "outputs": []
    },
    {
      "cell_type": "code",
      "source": [
        "import math\n",
        "\n",
        "def estacionamento(hora_entrada, minuto_entrada, hora_saida, minuto_saida):\n",
        "  entrada = (60 * hora_entrada) + minuto_entrada\n",
        "  saida = (60 * hora_saida) + minuto_saida\n",
        "  total = saida - entrada\n",
        "\n",
        "  if total < 0:\n",
        "    total += 1440\n",
        "\n",
        "  horas = math.ceil(total/60)\n",
        "\n",
        "  if horas <= 2:\n",
        "    taxa = horas\n",
        "\n",
        "  elif 2 < horas <= 4:\n",
        "    taxa = horas * 1.4\n",
        "\n",
        "  elif horas > 4:\n",
        "    taxa = horas * 2\n",
        "\n",
        "  return taxa\n",
        "\n",
        "\n",
        "estacionamento = estacionamento(19, 33, 10, 20)\n",
        "print(estacionamento)\n",
        "\n"
      ],
      "metadata": {
        "colab": {
          "base_uri": "https://localhost:8080/"
        },
        "id": "wIVUMiu-yLlc",
        "outputId": "f12b38af-79db-4a19-9759-1c775a98a8d5"
      },
      "execution_count": 3,
      "outputs": [
        {
          "output_type": "stream",
          "name": "stdout",
          "text": [
            "30\n"
          ]
        }
      ]
    }
  ]
}