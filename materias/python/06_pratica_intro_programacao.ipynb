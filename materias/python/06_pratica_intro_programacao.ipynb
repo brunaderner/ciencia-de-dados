{
  "nbformat": 4,
  "nbformat_minor": 0,
  "metadata": {
    "colab": {
      "provenance": []
    },
    "kernelspec": {
      "name": "python3",
      "display_name": "Python 3"
    },
    "language_info": {
      "name": "python"
    }
  },
  "cells": [
    {
      "cell_type": "markdown",
      "source": [
        "#Problema 1\n",
        "Faça um programa que leia um endereço IP e imprima na tela se o mesmo é válido ou não. Um endereço IP possui o formato x.y.z.w, onde x, y, z e w são números no intervalo [0, 255].\n",
        "Observação: as mensagens exibidas para o usuário deverão ser exatamente como apresentado abaixo\n",
        "(mensagens exibidas com os comandos input() e print()).\n",
        "Exemplo de execução do programa:\n",
        "200.135.80.9\n",
        "Válido\n",
        "Exemplo de execução do programa:257.32.4.5\n",
        "Inválido"
      ],
      "metadata": {
        "id": "UcmMs4pZZo9u"
      }
    },
    {
      "cell_type": "code",
      "execution_count": null,
      "metadata": {
        "colab": {
          "base_uri": "https://localhost:8080/"
        },
        "id": "IE7ZkqyVYvEW",
        "outputId": "02eedba8-2b8f-49a5-dad6-79907b7e24c6"
      },
      "outputs": [
        {
          "output_type": "stream",
          "name": "stdout",
          "text": [
            "200.135.80.8\n",
            "Válido\n"
          ]
        }
      ],
      "source": [
        "inp = input('')\n",
        "lista = inp.split('.')\n",
        "\n",
        "valido = True\n",
        "\n",
        "if len(lista) != 4:\n",
        "  valido = False\n",
        "else:\n",
        "  for i in lista:\n",
        "    n = int(i)\n",
        "    if n < 0 or n > 255:\n",
        "      valido = False\n",
        "      break\n",
        "\n",
        "print('Válido' if valido else 'Inválido')"
      ]
    },
    {
      "cell_type": "markdown",
      "source": [
        "#Problema 2\n",
        "Em uma competição de salto em distância, cada atleta tem direito a cinco saltos. No final da série de\n",
        "saltos de cada atleta, o melhor e o pior resultados são eliminados. O seu resultado fica sendo a média\n",
        "dos três valores restantes. Você deve fazer um programa que receba as cinco distâncias alcançadas\n",
        "pelo atleta em seus saltos. Em seguida, o programa deve exibir a média dos saltos conforme a descrição acima informada (retirar o melhor e o pior salto e depois calcular a média).\n",
        "Observação: as mensagens exibidas para o usuário deverão ser exatamente como apresentado abaixo\n",
        "(mensagens exibidas com os comandos input() e print()).\n",
        "Exemplo de execução do programa:\n",
        "6.50\n",
        "6.10\n",
        "6.20\n",
        "5.40\n",
        "5.3\n",
        "Média: 5.90"
      ],
      "metadata": {
        "id": "D_3Qcbhg-DeK"
      }
    },
    {
      "cell_type": "code",
      "source": [
        "saltos = []\n",
        "for i in range(5):\n",
        "    saltos.append(float(input()))\n",
        "\n",
        "saltos.sort()\n",
        "restantes = saltos[1:4]\n",
        "media = sum(restantes) / len(restantes)\n",
        "\n",
        "print(f\"Média: {media:.2f}\")\n"
      ],
      "metadata": {
        "colab": {
          "base_uri": "https://localhost:8080/"
        },
        "id": "vJpnP3t3-Ip4",
        "outputId": "aebfea03-ae13-4e9b-a3d3-26dc019512cc"
      },
      "execution_count": null,
      "outputs": [
        {
          "output_type": "stream",
          "name": "stdout",
          "text": [
            "6.5\n",
            "6.1\n",
            "6.2\n",
            "5.4\n",
            "5.3\n",
            "Média: 5.90\n"
          ]
        }
      ]
    },
    {
      "cell_type": "markdown",
      "source": [
        "#Problema 3\n",
        "Faça um programa que leia 5 números inteiros e armazene-os numa lista. Armazene os números pares em uma lista e os números ímpares em uma outra lista. Imprima as três listas na tela.\n",
        "Observação: as mensagens exibidas para o usuário deverão ser exatamente como apresentado abaixo\n",
        "(mensagens exibidas com os comandos input() e print()).\n",
        "Exemplo de execução do programa:\n",
        "1\n",
        "2\n",
        "3\n",
        "4\n",
        "5\n",
        "[1, 2, 3, 4, 5]\n",
        "[2, 4]\n",
        "[1, 3, 5]\n",
        "Exemplo de execução do programa:\n",
        "2\n",
        "4\n",
        "2\n",
        "6\n",
        "8\n",
        "10\n",
        "[2, 4, 6, 8, 10]\n",
        "[2, 4, 6, 8, 10]\n",
        "[]"
      ],
      "metadata": {
        "id": "gUlikMRUDzTl"
      }
    },
    {
      "cell_type": "code",
      "source": [
        "numeros = []\n",
        "for i in range(5):\n",
        "    numeros.append(int(input()))\n",
        "\n",
        "pares = []\n",
        "impares = []\n",
        "for n in numeros:\n",
        "    if n % 2 == 0:\n",
        "        pares.append(n)\n",
        "    else:\n",
        "        impares.append(n)\n",
        "\n",
        "print(numeros)\n",
        "print(pares)\n",
        "print(impares)\n"
      ],
      "metadata": {
        "colab": {
          "base_uri": "https://localhost:8080/"
        },
        "id": "N57qptBvDz21",
        "outputId": "fb08bfc4-ddd2-4ae8-984d-a29e54e815e3"
      },
      "execution_count": null,
      "outputs": [
        {
          "output_type": "stream",
          "name": "stdout",
          "text": [
            "2\n",
            "4\n",
            "2\n",
            "6\n",
            "10\n",
            "[2, 4, 2, 6, 10]\n",
            "[2, 4, 2, 6, 10]\n",
            "[]\n"
          ]
        }
      ]
    },
    {
      "cell_type": "markdown",
      "source": [
        "#Problema 4\n",
        "Faça um programa que receba a temperatura média de cada mês do ano e armazene-as em uma lista.\n",
        "Após isto, calcule e mostre a média anual das temperaturas e mostre todas as temperaturas acima da\n",
        "média anual.\n",
        "Observação: as mensagens exibidas para o usuário deverão ser exatamente como apresentado abaixo\n",
        "(mensagens exibidas com os comandos input() e print()).\n",
        "Exemplo de execução do programa:\n",
        "1\n",
        "2\n",
        "3\n",
        "4\n",
        "5\n",
        "6\n",
        "7\n",
        "8\n",
        "9\n",
        "10\n",
        "11\n",
        "12\n",
        "Média: 6.50\n",
        "7\n",
        "8\n",
        "9\n",
        "10\n",
        "11\n",
        "12"
      ],
      "metadata": {
        "id": "2SR2AulOEWNl"
      }
    },
    {
      "cell_type": "code",
      "source": [
        "temperatura = []\n",
        "for i in range(12):\n",
        "    temperatura.append(int(input()))\n",
        "\n",
        "\n",
        "media = sum(temperatura) / 12\n",
        "\n",
        "\n",
        "acima = []\n",
        "for t in temperatura:\n",
        "    if t > media:\n",
        "        acima.append(t)\n",
        "\n",
        "print(f\"Média: {media:.2f}\")\n",
        "\n",
        "for n in acima:\n",
        "    print(n)\n"
      ],
      "metadata": {
        "colab": {
          "base_uri": "https://localhost:8080/"
        },
        "id": "6w6N_pbpEZwV",
        "outputId": "29e39477-629f-4706-a6bd-e1b3a68fa4a0"
      },
      "execution_count": null,
      "outputs": [
        {
          "output_type": "stream",
          "name": "stdout",
          "text": [
            "11\n",
            "12\n",
            "13\n",
            "14\n",
            "15\n",
            "16\n",
            "17\n",
            "18\n",
            "19\n",
            "20\n",
            "21\n",
            "22\n",
            "Média: 16.50\n",
            "17\n",
            "18\n",
            "19\n",
            "20\n",
            "21\n",
            "22\n"
          ]
        }
      ]
    },
    {
      "cell_type": "markdown",
      "source": [
        "#Problema 5\n",
        "Escreva um programa que leia uma data no formato DD/MM/AAAA e imprima na tela a data no formato MM/DD/AAAA.\n",
        "Observação: as mensagens exibidas para o usuário deverão ser exatamente como apresentado abaixo\n",
        "(mensagens exibidas com os comandos input() e print()).\n",
        "3\n",
        "Exemplo de execução do programa:\n",
        "01/11/2018\n",
        "11/01/2018"
      ],
      "metadata": {
        "id": "1P32XofEJELk"
      }
    },
    {
      "cell_type": "code",
      "source": [
        "data = input()\n",
        "p = data.split('/')\n",
        "print(p[1] + '/' + p[0] + '/' + p[2])\n"
      ],
      "metadata": {
        "colab": {
          "base_uri": "https://localhost:8080/"
        },
        "id": "74ziYfU5JKKW",
        "outputId": "67a4cdd0-f2b4-4268-d499-6258df2ff396"
      },
      "execution_count": null,
      "outputs": [
        {
          "output_type": "stream",
          "name": "stdout",
          "text": [
            "11/01/2024\n",
            "01/11/2024\n"
          ]
        }
      ]
    },
    {
      "cell_type": "markdown",
      "source": [
        "#Problema 6\n",
        "Escreva uma função chamada tamanho_maior_string que recebe como parâmetro uma lista com\n",
        "strings e retorna o tamanho da maior string na lista. Sua função não deve modificar a lista original.\n",
        "Observação 1: O nome da função deve ser exatamente como especificado acima e seu arquivo deve\n",
        "obrigatoriamente se chamar problema6.py.\n",
        "Observação 2: Seu programa deve conter apenas a função descrita acima. Você não precisa realizar a\n",
        "entrada e saída de dados (não precisa usar as funções input() e print()).\n",
        "Exemplo 1 de execução do programa:\n",
        "[‘um’, ‘isso’, ‘é’]\n",
        "4\n",
        "Exemplo 2 de execução do programa:\n",
        "[‘Brasil’, ‘Argentina’, ‘Estados Unidos’, ‘Austrália’, ‘Emirados Árabes Unidos’]\n",
        "22"
      ],
      "metadata": {
        "id": "-PfxXFRYJm1e"
      }
    },
    {
      "cell_type": "code",
      "source": [
        "def tamanho_maior_string(lista):\n",
        "    maior = 0\n",
        "    for string in lista:\n",
        "        if len(string) > maior:\n",
        "            maior = len(string)\n",
        "    return maior"
      ],
      "metadata": {
        "id": "jxNaD_J8Jryk"
      },
      "execution_count": null,
      "outputs": []
    },
    {
      "cell_type": "markdown",
      "source": [
        "#Problema 7\n",
        "Escreva uma função chamada nested_sum que receba uma lista de listas de números inteiros e retorna a soma dos elementos de todas as listas aninhadas.\n",
        "Observação 1: O nome da função deve ser exatamente como especificado acima e seu arquivo deve\n",
        "obrigatoriamente se chamar problema7.py.\n",
        "Observação 2: Seu programa deve conter apenas a função descrita acima. Você não precisa realizar a\n",
        "entrada e saída de dados (não precisa usar as funções input() e print()).\n",
        "Exemplo 1 de execução do programa:\n",
        "[[1, 2], [3, 4]]\n",
        "Soma: 10\n",
        "Exemplo 2 de execução do programa:\n",
        "4\n",
        "[[1, 2], [3], [4, 5, 6]]\n",
        "Soma: 21"
      ],
      "metadata": {
        "id": "ytYSiUZeKGqv"
      }
    },
    {
      "cell_type": "code",
      "source": [
        "def nested_sum(lista):\n",
        "    total = 0\n",
        "    for listas in lista:\n",
        "        for i in listas:\n",
        "            total += i\n",
        "    return total\n"
      ],
      "metadata": {
        "id": "w4j32ni9KOmP"
      },
      "execution_count": null,
      "outputs": []
    },
    {
      "cell_type": "markdown",
      "source": [
        "#Problema 8\n",
        "Faça um programa que leia 10 números inteiros (n = 10) fornecidos pelo usuário, os adiciona em uma\n",
        "lista v e então calcula o desvio padrão dos elementos da lista, onde m é a média da lista.\n",
        "Desv i o =\n",
        "s\n",
        "1\n",
        "n −1\n",
        "Xn\n",
        "i=1\n",
        "(v[i]−m)\n",
        "2\n",
        "Observação: as mensagens exibidas para o usuário deverão ser exatamente como apresentado abaixo\n",
        "(mensagens exibidas com os comandos input() e print()).\n",
        "Exemplo de execução do programa:\n",
        "1\n",
        "2\n",
        "3\n",
        "4\n",
        "5\n",
        "6\n",
        "7\n",
        "8\n",
        "9\n",
        "10\n",
        "Desvio Padrão: 3.03"
      ],
      "metadata": {
        "id": "1OTzydNYJdWO"
      }
    },
    {
      "cell_type": "code",
      "source": [
        "import math\n",
        "v = []\n",
        "for i in range(10):\n",
        "  v.append(int(input('')))\n",
        "\n",
        "n = len(v)\n",
        "m = sum(v)/n\n",
        "somatoria = 0\n",
        "\n",
        "for x in v:\n",
        "  somatoria += (x - m) ** 2\n",
        "\n",
        "variancia = somatoria / (n - 1)\n",
        "desvio = math.sqrt(variancia)\n",
        "\n",
        "print(f'Desvio padrão: {desvio:.2f}')\n",
        "\n"
      ],
      "metadata": {
        "colab": {
          "base_uri": "https://localhost:8080/"
        },
        "id": "IR5Sx0XPJtHN",
        "outputId": "7bf83db8-c8be-4e23-8e67-9247423a28bf"
      },
      "execution_count": 3,
      "outputs": [
        {
          "output_type": "stream",
          "name": "stdout",
          "text": [
            "1\n",
            "2\n",
            "3\n",
            "4\n",
            "5\n",
            "6\n",
            "7\n",
            "8\n",
            "9\n",
            "10\n",
            "Desvio padrão: 3.03\n"
          ]
        }
      ]
    },
    {
      "cell_type": "markdown",
      "source": [
        "#Problema 9\n",
        "Faça um prorama que leia um número inteiro representando o divisor. Em seguida, o programa deve\n",
        "ler números inteiros até que um número negativo é digitado. Finalmente, o programa deve exibir\n",
        "uma lista com todos os números inteiros positivos que foram digitados e que são divisíveis pelo divisor fornecido inicialmente, conforme os exemplos abaixo. Você pode assumir que os inteiros serão\n",
        "fornecidos em ordem crescente.\n",
        "Observação: as mensagens exibidas para o usuário deverão ser exatamente como apresentado abaixo\n",
        "(mensagens exibidas com os comandos input() e print()).\n",
        "Exemplo 1 de execução do programa:\n",
        "Digite o divisor: 2\n",
        "Digite um inteiro: 1\n",
        "Digite um inteiro: 2\n",
        "Digite um inteiro: 3\n",
        "Digite um inteiro: 4\n",
        "Digite um inteiro: -1\n",
        "Resultado: [2, 4]\n",
        "Exemplo 2 de execução do programa:\n",
        "Digite o divisor: 3\n",
        "Digite um inteiro: 2\n",
        "Digite um inteiro: 4\n",
        "Digite um inteiro: 6\n",
        "Digite um inteiro: 8\n",
        "Digite um inteiro: 10\n",
        "Digite um inteiro: 12\n",
        "Digite um inteiro: 15\n",
        "Digite um inteiro: -1\n",
        "Resultado: [6, 12, 15]"
      ],
      "metadata": {
        "id": "H16dVHWV-ObA"
      }
    },
    {
      "cell_type": "code",
      "source": [
        "divisor = int(input('Digite o divisor: '))\n",
        "lista = []\n",
        "while True:\n",
        "  inteiro = int(input('Digite um inteiro:'))\n",
        "  if inteiro < 0:\n",
        "    break\n",
        "  if inteiro % divisor == 0:\n",
        "    lista.append(inteiro)\n",
        "\n",
        "print(f'Resultado: {lista}')"
      ],
      "metadata": {
        "colab": {
          "base_uri": "https://localhost:8080/"
        },
        "id": "3xhyy9rE-TcV",
        "outputId": "cfdb35ac-6cdc-43a2-f57a-cd086781ab7f"
      },
      "execution_count": 9,
      "outputs": [
        {
          "output_type": "stream",
          "name": "stdout",
          "text": [
            "Digite o divisor: 2\n",
            "Digite um inteiro:1\n",
            "Digite um inteiro:2\n",
            "Digite um inteiro:3\n",
            "Digite um inteiro:4\n",
            "Digite um inteiro:5\n",
            "Digite um inteiro:6\n",
            "Digite um inteiro:-1\n",
            "Resultado: [2, 4, 6]\n"
          ]
        }
      ]
    },
    {
      "cell_type": "markdown",
      "source": [
        "#Problema 10\n",
        "Faça um prorama que leia números inteiros até que um número negativo é digitado. Em seguida, o\n",
        "programa deve exibir uma lista em ordem crescente como todos os inteiros que possuem raiz quadrada inteira. Observe que os inteiros podem ser fornecidos de maneira desordenada e você deve\n",
        "ordenar a lista antes de exibir na tela.\n",
        "Observação: as mensagens exibidas para o usuário deverão ser exatamente como apresentado abaixo\n",
        "(mensagens exibidas com os comandos input() e print()).\n",
        "Exemplo 1 de execução do programa:\n",
        "Digite um inteiro: 30\n",
        "Digite um inteiro: 21\n",
        "Digite um inteiro: 16\n",
        "Digite um inteiro: 4\n",
        "Digite um inteiro: -1\n",
        "Resultado: [4, 16]\n",
        "Exemplo 2 de execução do programa:\n",
        "Digite um inteiro: 81\n",
        "Digite um inteiro: 21\n",
        "Digite um inteiro: 16\n",
        "Digite um inteiro: 4\n",
        "Digite um inteiro: 9\n",
        "Digite um inteiro: -1\n",
        "Resultado: [4, 9, 16, 81]"
      ],
      "metadata": {
        "id": "iqs50As5__Yu"
      }
    },
    {
      "cell_type": "code",
      "source": [
        "import math\n",
        "\n",
        "lista = []\n",
        "while True:\n",
        "  inteiro = int(input('Digite um inteiro: '))\n",
        "  if inteiro < 0:\n",
        "    break\n",
        "  k = int(math.sqrt(inteiro))\n",
        "  if k * k == inteiro:\n",
        "    lista.append(inteiro)\n",
        "\n",
        "lista.sort()\n",
        "print(f'Resultado: {lista}')"
      ],
      "metadata": {
        "colab": {
          "base_uri": "https://localhost:8080/"
        },
        "id": "3DYPCkM3AE00",
        "outputId": "87934c12-ff90-446a-923b-e1406fdf476f"
      },
      "execution_count": 1,
      "outputs": [
        {
          "output_type": "stream",
          "name": "stdout",
          "text": [
            "Digite um inteiro: 30\n",
            "Digite um inteiro: 21\n",
            "Digite um inteiro: 16\n",
            "Digite um inteiro: 4\n",
            "Digite um inteiro: -1\n",
            "Resultado: [4, 16]\n"
          ]
        }
      ]
    }
  ]
}