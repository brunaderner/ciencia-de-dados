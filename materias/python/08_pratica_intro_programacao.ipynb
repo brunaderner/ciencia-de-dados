{
  "nbformat": 4,
  "nbformat_minor": 0,
  "metadata": {
    "colab": {
      "provenance": []
    },
    "kernelspec": {
      "name": "python3",
      "display_name": "Python 3"
    },
    "language_info": {
      "name": "python"
    }
  },
  "cells": [
    {
      "cell_type": "markdown",
      "source": [
        "#Problema 1\n",
        "Uma soma pode ser definida recursivamente conforme abaixo:\n",
        "Xn\n",
        "k=m\n",
        "k =\n",
        "\n",
        "\n",
        "\n",
        "m se n = m\n",
        "m +\n",
        "Xn\n",
        "k=m+1\n",
        "k se n > m\n",
        "Implemente uma função recursiva chamada soma que receba dois parâmetros m e n e retorna o valor\n",
        "da soma conforme a definição acima. Em seguida, escreva um programa para testar essa função. O\n",
        "programa deve ler do usuário os valores de m e n, chamar a função e imprimir na tela o valor retornado pela função.\n",
        "Observação: as mensagens exibidas para o usuário deverão ser exatamente como apresentado abaixo\n",
        "(mensagens exibidas com os comandos input() e print()).\n",
        "1\n",
        "Exemplo de execução do programa:\n",
        "Digite m: 1\n",
        "Digite n: 4\n",
        "10"
      ],
      "metadata": {
        "id": "eLTKHvq_vT-r"
      }
    },
    {
      "cell_type": "code",
      "execution_count": null,
      "metadata": {
        "id": "XJy4Xly7u3j8"
      },
      "outputs": [],
      "source": [
        "def soma(m, n):\n",
        "    if m == n:\n",
        "        return m\n",
        "    else:\n",
        "        return m + soma(m + 1, n)\n",
        "\n",
        "\n",
        "m = int(input('Digite m: '))\n",
        "n = int(input('Digite n: '))\n",
        "\n",
        "resultado = soma(m, n)\n",
        "print(resultado)\n"
      ]
    },
    {
      "cell_type": "markdown",
      "source": [
        "#Problema 2\n",
        "Escreva uma função recursiva chamada power que receba como parâmetros dois inteiros positivos\n",
        "k e n e retorna o resultado de k\n",
        "n\n",
        ". Na sua implementação, você deve utilizar apenas multiplicações.\n",
        "Você não deve utilizar o operador **. Em seguida, escreva um programa para testar essa função. O\n",
        "programa deve ler do usuário os valores de k e n, chamar a função e imprimir na tela o valor retornado\n",
        "pela função.\n",
        "Observação: as mensagens exibidas para o usuário deverão ser exatamente como apresentado abaixo\n",
        "(mensagens exibidas com os comandos input() e print()).\n",
        "Exemplo de execução do programa:\n",
        "Digite k: 2\n",
        "Digite n: 3\n",
        "8"
      ],
      "metadata": {
        "id": "gxKSpAw504Ne"
      }
    },
    {
      "cell_type": "code",
      "source": [
        "def power(k, n):\n",
        "    if n == 0:\n",
        "        return 1\n",
        "    else:\n",
        "        return k * power(k, n - 1)\n",
        "\n",
        "\n",
        "k = int(input('Digite k: '))\n",
        "n = int(input('Digite n: '))\n",
        "\n",
        "resultado = power(k, n)\n",
        "print(resultado)"
      ],
      "metadata": {
        "id": "sMS6QGia069s"
      },
      "execution_count": null,
      "outputs": []
    },
    {
      "cell_type": "markdown",
      "source": [
        "#Problema 3\n",
        "O máximo divisor comum (MDC) dos inteiros x e y é o maior divisor inteiro comum a x e y. Por\n",
        "exemplo, o MDC de 16 e 36 é o 4, enquanto que o MDC de 30 e 54 é o 6. Escreva uma função recursiva\n",
        "chamada mdc que retorna o máximo divisor comum de x e y. Em seguida, escreva um programa para\n",
        "testar essa função. O programa deve ler do usuário os valores de x e y, chamar a função e imprimir\n",
        "na tela o valor retornado pela função. O mdc de x e y é definido como segue: se y é igual a 0, então\n",
        "mdc(x,y) é x; caso contrário, mdc(x,y) é mdc(y, x%y), onde % é o operador resto.\n",
        "Observação: as mensagens exibidas para o usuário deverão ser exatamente como apresentado abaixo\n",
        "(mensagens exibidas com os comandos input() e print()).\n",
        "Exemplo de execução do programa:\n",
        "Digite x: 16\n",
        "Digite y: 36\n",
        "4"
      ],
      "metadata": {
        "id": "0O9dfezc3JO7"
      }
    },
    {
      "cell_type": "code",
      "source": [
        "def mdc(x, y):\n",
        "  if y == 0:\n",
        "    return  x\n",
        "  else:\n",
        "    return mdc(y, x%y)\n",
        "\n",
        "\n",
        "x = int(input('Digite x: '))\n",
        "y = int(input('Digite y: '))\n",
        "\n",
        "resultado = mdc(x,y)\n",
        "print(f'{resultado}')\n"
      ],
      "metadata": {
        "colab": {
          "base_uri": "https://localhost:8080/"
        },
        "id": "oQMVGN_v3CtO",
        "outputId": "639d395c-3bdb-4abc-84ac-f13fbee0fdc0"
      },
      "execution_count": 2,
      "outputs": [
        {
          "output_type": "stream",
          "name": "stdout",
          "text": [
            "Digite x: 16\n",
            "Digite y: 36\n",
            "4\n"
          ]
        }
      ]
    },
    {
      "cell_type": "markdown",
      "source": [
        "#Problema 4\n",
        "Implemente uma função recursiva chamada soma que receba como parâmetro um número inteiro\n",
        "positivo N e retorna o somatório dos números de 1 a N. Em seguida, escreva um programa para testar\n",
        "2\n",
        "essa função. O programa deve ler do usuário o valor de N, chamar a função e imprimir na tela o valor\n",
        "retornado pela função.\n",
        "Observação: as mensagens exibidas para o usuário deverão ser exatamente como apresentado abaixo\n",
        "(mensagens exibidas com os comandos input() e print()).\n",
        "Exemplo de execução do programa:\n",
        "Digite N: 4\n",
        "10"
      ],
      "metadata": {
        "id": "3sPJBAqj4g3T"
      }
    },
    {
      "cell_type": "code",
      "source": [
        "def soma(N):\n",
        "  if N == 1:\n",
        "    return 1\n",
        "  else:\n",
        "    return N + soma(N-1)\n",
        "\n",
        "N = int(input('Digite N: '))\n",
        "resultado = soma(N)\n",
        "print(f'{resultado}')"
      ],
      "metadata": {
        "colab": {
          "base_uri": "https://localhost:8080/"
        },
        "id": "K7LmKfRU3FCC",
        "outputId": "f1aca036-40aa-411b-afd0-06b4fb6e77df"
      },
      "execution_count": 4,
      "outputs": [
        {
          "output_type": "stream",
          "name": "stdout",
          "text": [
            "Digite N: 4\n",
            "10\n"
          ]
        }
      ]
    },
    {
      "cell_type": "markdown",
      "source": [
        "#Problema 5\n",
        "Implemente uma função recursiva chamada imprime_naturais que receba como parâmetro um\n",
        "número inteiro positivo N e imprima na tela todos os números naturais de 0 até N em ordem crescente. Em seguida, escreva um programa para testar essa função. O programa deve ler do usuário o\n",
        "valor de N e chamar a função.\n",
        "Observação: as mensagens exibidas para o usuário deverão ser exatamente como apresentado abaixo\n",
        "(mensagens exibidas com os comandos input() e print()).\n",
        "Exemplo de execução do programa:\n",
        "Digite N: 4\n",
        "0\n",
        "1\n",
        "2\n",
        "3\n",
        "4"
      ],
      "metadata": {
        "id": "6nYihG8s5ibn"
      }
    },
    {
      "cell_type": "code",
      "source": [
        "def imprime_naturais(N):\n",
        "  if N < 0:\n",
        "    return\n",
        "  else:\n",
        "    imprime_naturais(N-1)\n",
        "    print(N)\n",
        "\n",
        "\n",
        "N = int(input('Digite N: '))\n",
        "imprime_naturais(N)"
      ],
      "metadata": {
        "colab": {
          "base_uri": "https://localhost:8080/"
        },
        "id": "c0n2Z3rV5mVN",
        "outputId": "72a943bc-30f3-4140-87ed-9f7c87ca80fa"
      },
      "execution_count": 8,
      "outputs": [
        {
          "output_type": "stream",
          "name": "stdout",
          "text": [
            "Digite N: 4\n",
            "0\n",
            "1\n",
            "2\n",
            "3\n",
            "4\n"
          ]
        }
      ]
    },
    {
      "cell_type": "markdown",
      "source": [
        "#Problema 6\n",
        "Implemente uma função recursiva chamada imprime_naturais_pares que receba como parâmetro um número inteiro positivo N (par ou ímpar) e imprima todos os números pares de 0 até N em\n",
        "ordem crescente. Observe que o N só será impresso se o mesmo for par. Em seguida, escreva um\n",
        "programa para testar essa função. O programa deve ler do usuário o valor de N e chamar a função.\n",
        "Observação: as mensagens exibidas para o usuário deverão ser exatamente como apresentado abaixo\n",
        "(mensagens exibidas com os comandos input() e print()).\n",
        "Exemplo de execução do programa:\n",
        "Digite N: 4\n",
        "0\n",
        "2\n",
        "4"
      ],
      "metadata": {
        "id": "-ihzYGI3_Mwe"
      }
    },
    {
      "cell_type": "code",
      "source": [
        "def imprime_naturais_pares(N):\n",
        "  if N < 0:\n",
        "    return\n",
        "  else:\n",
        "    imprime_naturais_pares(N-1)\n",
        "    if N % 2 == 0:\n",
        "      print(N)\n",
        "\n",
        "N = int(input('Digite N: '))\n",
        "imprime_naturais_pares(N)"
      ],
      "metadata": {
        "colab": {
          "base_uri": "https://localhost:8080/"
        },
        "id": "erxLyVZy_SG9",
        "outputId": "0b48c5ef-a713-4866-f8e8-28007db61d05"
      },
      "execution_count": 10,
      "outputs": [
        {
          "output_type": "stream",
          "name": "stdout",
          "text": [
            "Digite N: 4\n",
            "0\n",
            "2\n",
            "4\n"
          ]
        }
      ]
    },
    {
      "cell_type": "markdown",
      "source": [
        "#Problema 7\n",
        "Implemente uma função recursiva chamada imprime_naturais_impares que receba como parâmetro um número inteiro positivo N (par ou ímpar) e imprima todos os números ímpares de 1 até N\n",
        "em ordem decrescente. Observe que o N só será impresso se o mesmo for ímpar. Em seguida, escreva\n",
        "um programa para testar essa função. O programa deve ler do usuário o valor de N e chamar a função.\n",
        "Observação: as mensagens exibidas para o usuário deverão ser exatamente como apresentado abaixo\n",
        "(mensagens exibidas com os comandos input() e print()).\n",
        "Exemplo de execução do programa:\n",
        "Digite N: 4\n",
        "3\n",
        "1"
      ],
      "metadata": {
        "id": "9l_l-bM9AePe"
      }
    },
    {
      "cell_type": "code",
      "source": [
        "def imprime_naturais_impares(N):\n",
        "  if N < 0:\n",
        "    return\n",
        "  else:\n",
        "    if N % 2 != 0:\n",
        "      print(N)\n",
        "    imprime_naturais_impares(N - 1)\n",
        "\n",
        "N = int(input('Digite N: '))\n",
        "imprime_naturais_impares(N)"
      ],
      "metadata": {
        "colab": {
          "base_uri": "https://localhost:8080/"
        },
        "id": "AkP-_AkeAfZn",
        "outputId": "6e5a1c28-5f55-417e-ee48-c8c377245f13"
      },
      "execution_count": 11,
      "outputs": [
        {
          "output_type": "stream",
          "name": "stdout",
          "text": [
            "Digite N: 4\n",
            "1\n",
            "3\n"
          ]
        }
      ]
    }
  ]
}