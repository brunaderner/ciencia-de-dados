{
  "nbformat": 4,
  "nbformat_minor": 0,
  "metadata": {
    "colab": {
      "provenance": []
    },
    "kernelspec": {
      "name": "python3",
      "display_name": "Python 3"
    },
    "language_info": {
      "name": "python"
    }
  },
  "cells": [
    {
      "cell_type": "markdown",
      "source": [
        "#Problema 1\n",
        "Escreva um programa que lê uma palavra e imprima na tela a letra com o maior número de ocorrências na palavra digitada.\n",
        "Observação: as mensagens exibidas para o usuário deverão ser exatamente como apresentado abaixo\n",
        "(mensagens exibidas com os comandos input() e print()).\n",
        "Exemplo 1 de execução do programa:\n",
        "banana\n",
        "a\n",
        "Exemplo 2 de execução do programa:\n",
        "assassino\n",
        "s"
      ],
      "metadata": {
        "id": "-BOi6_PlEDCj"
      }
    },
    {
      "cell_type": "code",
      "execution_count": 2,
      "metadata": {
        "colab": {
          "base_uri": "https://localhost:8080/"
        },
        "id": "1J9dxUrHCGSZ",
        "outputId": "8b3089c5-e5fa-4bd6-cfe1-189ba5765d6a"
      },
      "outputs": [
        {
          "output_type": "stream",
          "name": "stdout",
          "text": [
            "banana\n",
            "a\n"
          ]
        }
      ],
      "source": [
        "inp = input('')\n",
        "\n",
        "conta = dict()\n",
        "for i in inp:\n",
        "  conta[i] = conta.get(i, 0) + 1\n",
        "\n",
        "max_letra = ''\n",
        "max_qtd = 0\n",
        "\n",
        "for letra, qtd in conta.items():\n",
        "    if qtd > max_qtd:\n",
        "        max_qtd = qtd\n",
        "        max_letra = letra\n",
        "\n",
        "print(max_letra)\n"
      ]
    },
    {
      "cell_type": "markdown",
      "source": [
        "#Problema 2\n",
        "Escreva um programa que lê uma palavra e imprima na tela a vogal com o maior número de ocorrências na palavra digitada.\n",
        "Observação: as mensagens exibidas para o usuário deverão ser exatamente como apresentado abaixo\n",
        "(mensagens exibidas com os comandos input() e print()).\n",
        "Exemplo 1 de execução do programa:\n",
        "banana\n",
        "a\n",
        "Exemplo 2 de execução do programa:\n",
        "assassino\n",
        "a"
      ],
      "metadata": {
        "id": "Pwe7qdjRVTcX"
      }
    },
    {
      "cell_type": "code",
      "source": [
        "inp = input('')\n",
        "vogais = ['a', 'e', 'i', 'o', 'u']\n",
        "conta = dict()\n",
        "\n",
        "for letra in inp:\n",
        "    if letra in vogais:\n",
        "        conta[letra] = conta.get(letra, 0) + 1\n",
        "\n",
        "max_vogal = ''\n",
        "max_qtd = 0\n",
        "\n",
        "for vogal, qtd in conta.items():\n",
        "  if qtd > max_qtd:\n",
        "    max_qtd = qtd\n",
        "    max_vogal = vogal\n",
        "\n",
        "print(max_vogal)"
      ],
      "metadata": {
        "colab": {
          "base_uri": "https://localhost:8080/"
        },
        "id": "h884PD6cVWsK",
        "outputId": "ddb57c51-f9d2-4b6e-b56b-79b6b3760389"
      },
      "execution_count": 9,
      "outputs": [
        {
          "output_type": "stream",
          "name": "stdout",
          "text": [
            "assassino\n",
            "a\n"
          ]
        }
      ]
    },
    {
      "cell_type": "markdown",
      "source": [
        "#Problema 3\n",
        "Escreva um programa para gerenciar as notas de uma turma de alunos. Para isso, a entrada de dados\n",
        "deve ser da seguinte forma: o programa deve ler o nome de um aluno, duas notas e em seguida passar\n",
        "para o próximo aluno. Esse processo de entrada de dados termina quando uma string vazia for digitada para o nome de um aluno. Em seguida, o programa deve exibir o nome e a média de todos os\n",
        "alunos, ordenada da maior para a menor média, conforme exemplo de execução abaixo.\n",
        "Observação: as mensagens exibidas para o usuário deverão ser exatamente como apresentado abaixo\n",
        "(mensagens exibidas com os comandos input() e print()).\n",
        "Exemplo de execução do programa:\n",
        "Tunico\n",
        "3.5\n",
        "5\n",
        "Tinoco\n",
        "10\n",
        "8.5\n",
        "Tinoco - 9.25\n",
        "Tunico - 4.25"
      ],
      "metadata": {
        "id": "-Xx_lLGlU_ih"
      }
    },
    {
      "cell_type": "code",
      "source": [
        "alunos = []\n",
        "\n",
        "try:\n",
        "    while True:\n",
        "        nome = input()\n",
        "        if nome == '':\n",
        "            break\n",
        "        nota1 = float(input())\n",
        "        nota2 = float(input())\n",
        "        media = (nota1 + nota2) / 2\n",
        "        alunos.append((media, nome))\n",
        "except EOFError:\n",
        "    pass\n",
        "\n",
        "alunos.sort(reverse=True)\n",
        "\n",
        "for media, nome in alunos:\n",
        "    print(f'{nome} - {media:.2f}')"
      ],
      "metadata": {
        "colab": {
          "base_uri": "https://localhost:8080/"
        },
        "id": "NY5yMpuvbEe7",
        "outputId": "5a57c6c3-487d-4b9f-beac-65721f2a3d86"
      },
      "execution_count": 19,
      "outputs": [
        {
          "output_type": "stream",
          "name": "stdout",
          "text": [
            "tunico\n",
            "3.5\n",
            "5\n",
            "tinoco\n",
            "10\n",
            "8.5\n",
            " \n",
            "tinoco - 9.25\n",
            "tunico - 4.25\n"
          ]
        }
      ]
    },
    {
      "cell_type": "markdown",
      "source": [
        "#Problema 4\n",
        "Escreva um programa que lê uma sequência de números inteiros até que o número -1 for digitado.\n",
        "Em seguida, o programa deve exibir na tela o número que mais apareceu na sequência de números\n",
        "digitados, conforme exemplo de execução abaixo\n",
        "Observação: as mensagens exibidas para o usuário deverão ser exatamente como apresentado abaixo\n",
        "(mensagens exibidas com os comandos input() e print()).\n",
        "Exemplo de execução do programa:\n",
        "1\n",
        "2\n",
        "3\n",
        "2\n",
        "5\n",
        "1\n",
        "2\n",
        "-1\n",
        "2"
      ],
      "metadata": {
        "id": "6ZJrnUSMnu0z"
      }
    },
    {
      "cell_type": "code",
      "source": [
        "numeros = dict()\n",
        "\n",
        "while True:\n",
        "  numero = input('')\n",
        "  if numero == '-1':\n",
        "    break\n",
        "\n",
        "  for i in numero:\n",
        "    numeros[i] = numeros.get(i, 0) + 1\n",
        "\n",
        "max_num = ''\n",
        "max_qtd = 0\n",
        "\n",
        "for numero, qtd in numeros.items():\n",
        "  if qtd > max_qtd:\n",
        "    max_qtd = qtd\n",
        "    max_num = numero\n",
        "\n",
        "print(max_num)\n"
      ],
      "metadata": {
        "colab": {
          "base_uri": "https://localhost:8080/"
        },
        "id": "eR6dWu3Un11c",
        "outputId": "f6b67dda-284e-42ad-ed09-f9675ac14371"
      },
      "execution_count": 11,
      "outputs": [
        {
          "output_type": "stream",
          "name": "stdout",
          "text": [
            "1\n",
            "2\n",
            "3\n",
            "4\n",
            "1\n",
            "2\n",
            "1\n",
            "-1\n",
            "1\n"
          ]
        }
      ]
    },
    {
      "cell_type": "markdown",
      "source": [
        "#Problema 5\n",
        "Sabe-se que uma molécula de RNA mensageiro é utilizada como base para sintetizar proteínas, no\n",
        "processo denominado de tradução. Cada trinca de bases de RNA mensageiro está relacionado com\n",
        "um aminoácido. Combinando vários aminoácidos, temos uma proteína. Com base na tabela (simplificada) de trincas de RNA abaixo, escreva um programa que receba uma string representando uma\n",
        "molécula de RNA mensageiro válida, segundo essa tabela, e imprime na tela a cadeia de aminoácidos\n",
        "que representam a proteína correspondente:\n",
        "![Screenshot from 2025-10-22 07-27-07.png](data:image/png;base64,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)\n",
        "Observação: as mensagens exibidas para o usuário deverão ser exatamente como apresentado abaixo\n",
        "(mensagens exibidas com os comandos input() e print()).\n",
        "Exemplo 1 de execução do programa:\n",
        "Digite o RNA: UUUUUAUCU\n",
        "Cadeia de Aminoácidos: Phe-Leu-Ser\n",
        "Exemplo 2 de execução do programa:\n",
        "Digite o RNA: UUUCAA\n",
        "Cadeia de Aminoácidos: Phe-Gln"
      ],
      "metadata": {
        "id": "cpXyjY4Zq1LY"
      }
    },
    {
      "cell_type": "code",
      "source": [
        "trinca = {\n",
        "    'UUU': 'Phe',\n",
        "    'CUU': 'Leu',\n",
        "    'UUA': 'Leu',\n",
        "    'AAG': 'Lisina',\n",
        "    'UCU': 'Ser',\n",
        "    'UAU': 'Tyr',\n",
        "    'CAA': 'Gln'\n",
        "}\n",
        "\n",
        "rna = input('Digite o RNA: ')\n",
        "aminoacidos = []\n",
        "\n",
        "for i in range(0, len(rna), 3):\n",
        "    trinca_atual = rna[i:i+3]\n",
        "    aminoacido = trinca[trinca_atual]\n",
        "    aminoacidos.append(aminoacido)\n",
        "\n",
        "cadeia = '-'.join(aminoacidos)\n",
        "\n",
        "print(f'Cadeia de Aminoácidos: {cadeia}')"
      ],
      "metadata": {
        "colab": {
          "base_uri": "https://localhost:8080/"
        },
        "id": "T-VWR6OyrIZo",
        "outputId": "2bfcc7fb-188a-4cda-ecf0-78d8d4e3d2d6"
      },
      "execution_count": 13,
      "outputs": [
        {
          "output_type": "stream",
          "name": "stdout",
          "text": [
            "Digite o RNA: UUUCAA\n",
            "Cadeia de Aminoácidos: Phe-Gln\n"
          ]
        }
      ]
    },
    {
      "cell_type": "markdown",
      "source": [
        "Problema 6\n",
        "Escreva um programa que converte um número inteiro (entre 1 e 999) para algarismos romanos. Use\n",
        "os três dicionários abaixo:\n",
        "• UNIDADES = 0: ”, 1: ’I’, 2: ’II’, 3: ’III’, 4: ’IV’, 5: ’V’, 6: ’VI’, 7: ’VII’, 8: ’VIII’, 9: ’IX’\n",
        "• DEZENAS = 0: ”, 1: ’X’, 2: ’XX’, 3: ’XXX’, 4: ’XL’, 5: ’L’, 6: ’LX’, 7: ’LXX’, 8: ’LXXX’, 9: ’XC’\n",
        "• CENTENAS = 0: ”, 1: ’C’, 2: ’CC’, 3: ’CCC’, 4: ’CD’, 5: ’D’, 6: ’DC’, 7: ’DCC’, 8: ’DCCC’, 9: ’CM’\n",
        "Observação: as mensagens exibidas para o usuário deverão ser exatamente como apresentado abaixo\n",
        "(mensagens exibidas com os comandos input() e print()).\n",
        "Exemplo 1 de execução do programa:\n",
        "Digite um número: 819\n",
        "Número Romano: DCCCXIX\n",
        "Exemplo 2 de execução do programa:\n",
        "Digite um número: 51\n",
        "Número Romano: LI"
      ],
      "metadata": {
        "id": "4ZKgKaYLve-i"
      }
    },
    {
      "cell_type": "code",
      "source": [
        "unidade = {0:'', 1:'I', 2:'II', 3:'III', 4:'IV', 5:'V', 6:'VI', 7:'VII', 8:'VIII', 9:'IX'}\n",
        "dezena = {0:'', 1:'X', 2:'XX', 3:'XXX', 4:'XL', 5:'L', 6:'LX', 7:'LXX', 8:'LXXX', 9:'XC'}\n",
        "centena = {0:'', 1:'C', 2:'CC', 3:'CCC', 4:'CD', 5:'D', 6:'DC', 7:'DCC', 8:'DCCC', 9:'CM'}\n",
        "\n",
        "numero = input('Digite um número: ')\n",
        "\n",
        "tamanho = len(numero)\n",
        "romano = ''\n",
        "\n",
        "numero = [int(digito) for digito in numero]\n",
        "\n",
        "if tamanho == 1:\n",
        "    romano = unidade[numero[0]]\n",
        "\n",
        "elif tamanho == 2:\n",
        "    romano = dezena[numero[0]] + unidade[numero[1]]\n",
        "\n",
        "elif tamanho == 3:\n",
        "    romano = centena[numero[0]] + dezena[numero[1]] + unidade[numero[2]]\n",
        "\n",
        "print(f'Número Romano: {romano}')"
      ],
      "metadata": {
        "colab": {
          "base_uri": "https://localhost:8080/"
        },
        "id": "eKTJufgIvjMO",
        "outputId": "9ef29f0c-f6f6-4496-87e5-c3881ffc1839"
      },
      "execution_count": 16,
      "outputs": [
        {
          "output_type": "stream",
          "name": "stdout",
          "text": [
            "Digite um número: 23\n",
            "Número Romano: XXIII\n"
          ]
        }
      ]
    },
    {
      "cell_type": "markdown",
      "source": [
        "#Problema 7\n",
        "Em uma corrida de Kart, cada competidor tem direito a dar 5 voltas. O arquivo tempos.txt armazena\n",
        "o nome e os tempos em segundos de todos os competidores durante a corrida. Escreva um programa\n",
        "que lê o arquivo tempos.txt e exibe na tela o nome do competidor que realizou a melhor volta e o\n",
        "tempo da melhor volta, além da classificação final dos competidores na corrida (começando do campeão). O campeão é o competidor com a menor média de tempos.\n",
        "Observação: as mensagens exibidas para o usuário deverão ser exatamente como apresentado abaixo\n",
        "(mensagens exibidas com os comandos input() e print()).\n",
        "Exemplo de execução do programa:\n",
        "Assumindo que o arquivo tempos.txt possui o conteúdo abaixo:\n",
        "Burnquist 151 50 130 140 85\n",
        "Marley 112 51 55 60 137\n",
        "Bob 98 145 95 89 87\n",
        "Ariel 112 53 80 98 69\n",
        "4\n",
        "Seu programa deve imprimir:\n",
        "Melhor volta: Burnquist - 50 segundos\n",
        "Classificação final:\n",
        "1 - Ariel - 82.40\n",
        "2 - Marley - 83.00\n",
        "3 - Bob - 102.80\n",
        "4 - Burnquist - 111.20"
      ],
      "metadata": {
        "id": "YVoUmQJk3aMw"
      }
    },
    {
      "cell_type": "code",
      "source": [
        "file = open('tempos.txt', 'r')\n",
        "\n",
        "melhor_volta = 100000\n",
        "melhor_nome = ''\n",
        "competidores = []\n",
        "\n",
        "for linha in file:\n",
        "    partes = linha.split()\n",
        "    nome = partes[0]\n",
        "    voltas = partes[1:]\n",
        "    tempos = [int(i) for i in voltas]\n",
        "\n",
        "    menor_volta = min(tempos)\n",
        "    if menor_volta < melhor_volta:\n",
        "        melhor_volta = menor_volta\n",
        "        melhor_nome = nome\n",
        "\n",
        "    media = sum(tempos) / len(tempos)\n",
        "    competidores.append((media, nome))\n",
        "\n",
        "file.close()\n",
        "\n",
        "competidores.sort()\n",
        "\n",
        "print(f'Melhor volta: {melhor_nome} - {melhor_volta} segundos')\n",
        "print('Classificação final:')\n",
        "for i, (media, nome) in enumerate(competidores, 1):\n",
        "    print(f'{i} - {nome} - {media:.2f}')"
      ],
      "metadata": {
        "id": "Wq9GvwSy3heU"
      },
      "execution_count": null,
      "outputs": []
    },
    {
      "cell_type": "markdown",
      "source": [
        "Problema 8\n",
        "Escreva um programa que solicita ao usuário para digitar um inteiro n e em seguida o programa deve\n",
        "exibir na tela dois dicionários distintos, conforme definido a seguir: Dicionário 1: será um dicionário\n",
        "cujas chaves são os inteiros 1,2,3,...,n e cujos valores são as somas 1,1+2,1+2+3,...,1+2+3+...+n,\n",
        "respectivamente; Dicionário 2: será um dicionário cujas chaves são os inteiros 1,2,3,...n e cujos valores são os resultados de 1!,2!,3!,...,n!, respectivamente.\n",
        "Observação: as mensagens exibidas para o usuário deverão ser exatamente como apresentado abaixo\n",
        "(mensagens exibidas com os comandos input() e print()).\n",
        "Exemplo 1 de execução do programa:\n",
        "Digite um inteiro: 5\n",
        "Dicionário 1: {1: 1, 2: 3, 3: 6, 4: 10, 5: 15}\n",
        "Dicionário 2: {1: 1, 2: 2, 3: 6, 4: 24, 5: 120}\n",
        "Exemplo 2 de execução do programa:\n",
        "Digite um inteiro: 10\n",
        "Dicionário 1: {1: 1, 2: 3, 3: 6, 4: 10, 5: 15, 6: 21, 7: 28, 8: 36, 9: 45, 10: 55}\n",
        "Dicionário 2: {1: 1, 2: 2, 3: 6, 4: 24, 5: 120, 6: 720, 7: 5040, 8: 40320, 9: 362880, 10: 3628800}"
      ],
      "metadata": {
        "id": "uF7kGhFu7Rxb"
      }
    },
    {
      "cell_type": "code",
      "source": [
        "n = int(input('Digite um inteiro: '))\n",
        "\n",
        "d1 = {}\n",
        "soma = 0\n",
        "for i in range(1, n+1):\n",
        "    soma += i\n",
        "    d1[i] = soma\n",
        "\n",
        "d2 = {}\n",
        "fat = 1\n",
        "for i in range(1, n+1):\n",
        "    fat *= i\n",
        "    d2[i] = fat\n",
        "\n",
        "print(f'Dicionário 1: {d1}')\n",
        "print(f'Dicionário 2: {d2}')\n"
      ],
      "metadata": {
        "colab": {
          "base_uri": "https://localhost:8080/"
        },
        "id": "t7TLJ6JR7Uub",
        "outputId": "1cac985f-f00a-4e0c-c120-73751420f4e1"
      },
      "execution_count": 17,
      "outputs": [
        {
          "output_type": "stream",
          "name": "stdout",
          "text": [
            "Digite um inteiro: 5\n",
            "Dicionário 1: {1: 1, 2: 3, 3: 6, 4: 10, 5: 15}\n",
            "Dicionário 2: {1: 1, 2: 2, 3: 6, 4: 24, 5: 120}\n"
          ]
        }
      ]
    },
    {
      "cell_type": "markdown",
      "source": [
        "#Problema 9\n",
        "Uma copa internacional de Futebol começou e um jornal local necessita de um programa que gera\n",
        "automaticamente uma mensagem com um resumo dos resultados dos jogos. Para isso, desenvolva\n",
        "um programa que leia os nomes de duas seleções e a quantidade de gols que cada seleção fez no jogo.\n",
        "Esse processo deve se repetir até que o usuário informe que não deseja mais continuar. Finalmente,\n",
        "o programa deve exibir qual seleção venceu (empatou) cada jogo e o resultado do jogo. A entrada e a\n",
        "saída de dados devem ser conforme exemplos abaixo.\n",
        "Observação: as mensagens exibidas para o usuário deverão ser exatamente como apresentado abaixo\n",
        "(mensagens exibidas com os comandos input() e print()).\n",
        "Exemplo 1 de execução do programa:\n",
        "5\n",
        "Digite o nome da primeira seleção: Brasil\n",
        "Digite o nome da segunda seleção: Servia\n",
        "Digite quantos gols a primeira seleção fez: 2\n",
        "Digite quantos gols a segunda seleção fez: 0\n",
        "Deseja continuar? sim\n",
        "Digite o nome da primeira seleção: Qatar\n",
        "Digite o nome da segunda seleção: Senegal\n",
        "Digite quantos gols a primeira seleção fez: 1\n",
        "Digite quantos gols a segunda seleção fez: 3\n",
        "Deseja continuar? não\n",
        "Brasil venceu Servia: 2 a 0\n",
        "Senegal venceu Qatar: 3 a 1\n",
        "Exemplo 2 de execução do programa:\n",
        "Digite o nome da primeira seleção: Holanda\n",
        "Digite o nome da segunda seleção: Equador\n",
        "Digite quantos gols a primeira seleção fez: 0\n",
        "Digite quantos gols a segunda seleção fez: 0\n",
        "Deseja continuar? não\n",
        "Holanda empatou com Equador: 0 a 0"
      ],
      "metadata": {
        "id": "MtKPOFI7-Ovt"
      }
    },
    {
      "cell_type": "code",
      "source": [
        "resultados = []\n",
        "\n",
        "while True:\n",
        "    selecao1 = input('Digite o nome da primeira seleção: ')\n",
        "    selecao2 = input('Digite o nome da segunda seleção: ')\n",
        "    gols1 = int(input('Digite quantos gols a primeira seleção fez: '))\n",
        "    gols2 = int(input('Digite quantos gols a segunda seleção fez: '))\n",
        "\n",
        "    if gols1 > gols2:\n",
        "        resultados.append(f'{selecao1} venceu {selecao2}: {gols1} a {gols2}')\n",
        "    elif gols1 == gols2:\n",
        "        resultados.append(f'{selecao1} empatou com {selecao2}: {gols1} a {gols2}')\n",
        "    else:\n",
        "        resultados.append(f'{selecao2} venceu {selecao1}: {gols2} a {gols1}')\n",
        "\n",
        "    continuar = input('Deseja continuar? ')\n",
        "    if continuar != 'sim':\n",
        "        break\n",
        "\n",
        "for r in resultados:\n",
        "    print(r)"
      ],
      "metadata": {
        "colab": {
          "base_uri": "https://localhost:8080/"
        },
        "id": "aXQs7sni-RSA",
        "outputId": "12f5d99e-acd2-403b-d8c8-d963f8437c18"
      },
      "execution_count": 19,
      "outputs": [
        {
          "output_type": "stream",
          "name": "stdout",
          "text": [
            "Digite o nome da primeira seleção: brasil\n",
            "Digite o nome da segunda seleção: servia\n",
            "Digite quantos gols a primeira seleção fez: 2\n",
            "Digite quantos gols a segunda seleção fez: 0\n",
            "Deseja continuar? sim\n",
            "Digite o nome da primeira seleção: holanda\n",
            "Digite o nome da segunda seleção: equador\n",
            "Digite quantos gols a primeira seleção fez: 0\n",
            "Digite quantos gols a segunda seleção fez: 0\n",
            "Deseja continuar? não\n",
            "brasil venceu servia: 2 a 0\n",
            "holanda empatou com equador: 0 a 0\n"
          ]
        }
      ]
    },
    {
      "cell_type": "markdown",
      "source": [
        "#Problema 10\n",
        "Escreva um programa de controle de agenda pessoal. O programa deverá apresentar um menu de\n",
        "opções (conforme apresentado abaixo), que permitirá ao usuário escolher a ação que será realizada.\n",
        "Menu:\n",
        "1) Cadastrar contato\n",
        "2) Visualizar contato\n",
        "3) Sair\n",
        "Digite a opção desejada:\n",
        "O programa deverá repetir as ações infinitamente, até que a Opção 3 do menu seja selecionada. As\n",
        "ações executadas em cada opção do menu são as seguintes:\n",
        "Opção 1: o programa deverá ler do teclado as informações de um novo contato, isto é, dia e mês de\n",
        "aniversário, número do telefone e nome, todos na mesma linha, nessa ordem, separados por espaço,\n",
        "conforme exemplo de execução abaixo. Em seguida, essas informações deverão ser armazenadas em\n",
        "um dicionário. O nome deverá ser a chave do dicionário (considere que não serão informados nomes\n",
        "repetidos e nem nomes compostos, por exemplo, Maria Eduarda).\n",
        "Opção 2: o programa deverá ler do teclado um nome, e então o programa deverá imprimir os dados (dia e mês de aniversário no formato DD/MM, e número de telefone) associados a este nome,\n",
        "conforme exemplo de execução abaixo. Caso o nome informado não conste na agenda, o programa\n",
        "deverá imprimir a seguinte mensagem: Contato não cadastrado.\n",
        "6\n",
        "Opção 3: o programa deverá encerrar a execução.\n",
        "Observação: as mensagens exibidas para o usuário deverão ser exatamente como apresentado abaixo\n",
        "(mensagens exibidas com os comandos input() e print()).\n",
        "Exemplo de execução do programa:\n",
        "Menu:\n",
        "1) Cadastrar contato\n",
        "2) Visualizar contato\n",
        "3) Sair\n",
        "Digite a opção desejada: 1\n",
        "Dia, mês, telefone e nome: 04 09 990899 Beyoncé\n",
        "Menu:\n",
        "1) Cadastrar contato\n",
        "2) Visualizar contato\n",
        "3) Sair\n",
        "Digite a opção desejada: 2\n",
        "Nome do contato: Beyoncé\n",
        "04/09 990899\n",
        "1) Cadastrar contato\n",
        "2) Visualizar contato\n",
        "3) Sair\n",
        "Digite a opção desejada: 2\n",
        "Nome do contato: Jack\n",
        "Contato não cadastrado\n",
        "Menu:\n",
        "1) Cadastrar contato\n",
        "2) Visualizar contato\n",
        "3) Sair\n",
        "Digite a opção desejada: 3"
      ],
      "metadata": {
        "id": "Wd5BvIwNC73Q"
      }
    },
    {
      "cell_type": "code",
      "source": [
        "agenda = {}\n",
        "while True:\n",
        "  print('Menu:\\n1) Cadastrar contato\\n2) Visualizar contato\\n3) Sair')\n",
        "  inp = input('Digite a opção desejada: ')\n",
        "  if inp == '1':\n",
        "    cadastro = input('Dia, mês, telefone e nome: ')\n",
        "    lista = cadastro.split()\n",
        "    agenda[lista[3]] = lista\n",
        "  elif inp == '2':\n",
        "    nome = input('Nome do contato: ')\n",
        "    if nome in agenda:\n",
        "      contato = agenda[nome]\n",
        "      print(f'{contato[0]}/{contato[1]} {contato[2]}')\n",
        "    else:\n",
        "      print('Contato não cadastrado')\n",
        "  elif inp == '3':\n",
        "    break\n"
      ],
      "metadata": {
        "colab": {
          "base_uri": "https://localhost:8080/"
        },
        "id": "HWWY8sCPC9jU",
        "outputId": "8d1d5b7f-4c69-487d-f89b-def613564027"
      },
      "execution_count": 33,
      "outputs": [
        {
          "name": "stdout",
          "output_type": "stream",
          "text": [
            "Menu:\n",
            "1) Cadastrar contato\n",
            "2) Visualizar contato\n",
            "3) Sair\n",
            "Digite a opção desejada: 1\n",
            "Dia, mês, telefone e nome: 29 11 1999999 Bruna\n",
            "Menu:\n",
            "1) Cadastrar contato\n",
            "2) Visualizar contato\n",
            "3) Sair\n",
            "Digite a opção desejada: 2\n",
            "Nome do contato: Bruna\n",
            "29/11 1999999\n",
            "Menu:\n",
            "1) Cadastrar contato\n",
            "2) Visualizar contato\n",
            "3) Sair\n",
            "Digite a opção desejada: 1\n",
            "Dia, mês, telefone e nome: 18 07 200000 Augusto\n",
            "Menu:\n",
            "1) Cadastrar contato\n",
            "2) Visualizar contato\n",
            "3) Sair\n",
            "Digite a opção desejada: 2\n",
            "Nome do contato: Augusto\n",
            "18/07 200000\n",
            "Menu:\n",
            "1) Cadastrar contato\n",
            "2) Visualizar contato\n",
            "3) Sair\n",
            "Digite a opção desejada: 2\n",
            "Nome do contato: Brenda\n",
            "Contato não cadastrado\n",
            "Menu:\n",
            "1) Cadastrar contato\n",
            "2) Visualizar contato\n",
            "3) Sair\n",
            "Digite a opção desejada: 3\n"
          ]
        }
      ]
    }
  ]
}